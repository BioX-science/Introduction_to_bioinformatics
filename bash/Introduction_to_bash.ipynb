{
 "cells": [
  {
   "cell_type": "markdown",
   "metadata": {},
   "source": [
    "# Introduction to Bash"
   ]
  },
  {
   "cell_type": "markdown",
   "metadata": {},
   "source": [
    "## Interaction with the Terminal\n",
    "\n",
    "The terminal is another way to do all that you can do with the graphical interface. Nevertheless it allow us to create recipe of actions and to do operations with files in a really fast manner. \n",
    "\n",
    "As with desktops the terminals are not exactly the same and some controls may be different. For example, to paste in RStudio terminal and Ubuntu terminal need to be done using `Control/Command + Shift + V/C/X`. Nevertheless in jupyter terminal is just `Control/Command + V/C/X`. \n",
    "\n",
    "Some commands can be done in Jupyter using the flag `%%bash` at the beginning of every cell. \n",
    "\n",
    "**Be careful of not having the root user when doing the git clone**. \n",
    "\n",
    "Here you can find an useful help about what does the different parts of the shell: https://explainshell.com/"
   ]
  },
  {
   "cell_type": "markdown",
   "metadata": {},
   "source": [
    "## Useful Commands"
   ]
  },
  {
   "cell_type": "code",
   "execution_count": null,
   "metadata": {},
   "outputs": [],
   "source": [
    "%%bash \n",
    "\n",
    "# Change your folder\n",
    "cd [folder]\n",
    "\n",
    "# To go up\n",
    "cd ..\n",
    "\n",
    "# Get the Absolute path\n",
    "pwd \n",
    "\n",
    "# List of files with size in human readable size \n",
    "ls -lh\n",
    "\n",
    "# Change the permissions of one file to be written\n",
    "sudo chmod +x [File You want to change]\n",
    "\n",
    "# Create a folder\n",
    "mkdir [NAME OF THE FOLDER]"
   ]
  },
  {
   "cell_type": "markdown",
   "metadata": {},
   "source": [
    "### Exercise \n",
    "\n",
    "Try to go the root using `cd /` and find your `workspace` folder."
   ]
  },
  {
   "cell_type": "code",
   "execution_count": null,
   "metadata": {},
   "outputs": [],
   "source": [
    "%%bash\n",
    "# Solution\n",
    "\n",
    "cd /workspace"
   ]
  },
  {
   "cell_type": "markdown",
   "metadata": {},
   "source": [
    "## Download the files needed for the course\n",
    "\n",
    "All the files are in this [webpage](https://github.com/DNF-UNIL/Introduction_to_bioinformatics.git). This is a git repository, to download you need to do:\n",
    "\n",
    "If you want to write over those notebooks, please do this `git clone` in the rstudio terminal"
   ]
  },
  {
   "cell_type": "code",
   "execution_count": null,
   "metadata": {},
   "outputs": [],
   "source": [
    "%%bash \n",
    "\n",
    "git clone https://github.com/DNF-UNIL/Introduction_to_bioinformatics.git"
   ]
  }
 ],
 "metadata": {
  "kernelspec": {
   "display_name": "Python 3",
   "language": "python",
   "name": "python3"
  },
  "language_info": {
   "codemirror_mode": {
    "name": "ipython",
    "version": 3
   },
   "file_extension": ".py",
   "mimetype": "text/x-python",
   "name": "python",
   "nbconvert_exporter": "python",
   "pygments_lexer": "ipython3",
   "version": "3.7.4"
  },
  "toc": {
   "base_numbering": 1,
   "nav_menu": {},
   "number_sections": false,
   "sideBar": true,
   "skip_h1_title": false,
   "title_cell": "Table of Contents",
   "title_sidebar": "Contents",
   "toc_cell": false,
   "toc_position": {},
   "toc_section_display": true,
   "toc_window_display": true
  },
  "varInspector": {
   "cols": {
    "lenName": 16,
    "lenType": 16,
    "lenVar": 40
   },
   "kernels_config": {
    "python": {
     "delete_cmd_postfix": "",
     "delete_cmd_prefix": "del ",
     "library": "var_list.py",
     "varRefreshCmd": "print(var_dic_list())"
    },
    "r": {
     "delete_cmd_postfix": ") ",
     "delete_cmd_prefix": "rm(",
     "library": "var_list.r",
     "varRefreshCmd": "cat(var_dic_list()) "
    }
   },
   "types_to_exclude": [
    "module",
    "function",
    "builtin_function_or_method",
    "instance",
    "_Feature"
   ],
   "window_display": false
  }
 },
 "nbformat": 4,
 "nbformat_minor": 2
}
