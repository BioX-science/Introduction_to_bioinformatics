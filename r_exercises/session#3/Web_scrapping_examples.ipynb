{
 "cells": [
  {
   "cell_type": "markdown",
   "metadata": {},
   "source": [
    "# Web scrapping Examples"
   ]
  },
  {
   "cell_type": "markdown",
   "metadata": {},
   "source": [
    "## **HOW TO FIX DEVTOOLS PROBLEM**\n",
    "\n",
    "1. Go to the terminal and: `ln -s /bin/tar /bin/gtar`\n",
    "\n",
    "2. Execute in R \n",
    "\n",
    "```R\n",
    "install.packages('cli', repos='http://cran.us.r-project.org')\n",
    "install.packages('devtools', repos='http://cran.us.r-project.org')\n",
    "```"
   ]
  },
  {
   "cell_type": "markdown",
   "metadata": {},
   "source": [
    "## General Scrapping\n",
    "\n",
    "https://stat4701.github.io/edav/2015/04/02/rvest_tutorial/"
   ]
  },
  {
   "cell_type": "code",
   "execution_count": null,
   "metadata": {
    "ExecuteTime": {
     "end_time": "2020-03-04T09:44:57.591577Z",
     "start_time": "2020-03-04T09:44:57.966Z"
    }
   },
   "outputs": [],
   "source": [
    "install.packages(\"easyPubMed\")\n",
    "install.packages(\"coronavirus\")\n",
    "install.packages('rvest')"
   ]
  },
  {
   "cell_type": "code",
   "execution_count": 2,
   "metadata": {
    "ExecuteTime": {
     "end_time": "2020-03-04T13:10:43.076168Z",
     "start_time": "2020-03-04T13:10:51.714Z"
    }
   },
   "outputs": [
    {
     "name": "stderr",
     "output_type": "stream",
     "text": [
      "Loading required package: xml2\n"
     ]
    }
   ],
   "source": [
    "library('rvest')\n",
    "\n",
    "#url_to_scrap = 'https://www.frontiersin.org/articles/10.3389/fninf.2016.00006/full'\n",
    "url_to_scrap <- 'https://pubmed.ncbi.nlm.nih.gov/?term=astrocytes'\n",
    "\n",
    "webpage <- read_html(url_to_scrap)"
   ]
  },
  {
   "cell_type": "code",
   "execution_count": null,
   "metadata": {
    "ExecuteTime": {
     "end_time": "2020-03-04T10:43:56.669798Z",
     "start_time": "2020-03-04T10:44:05.981Z"
    }
   },
   "outputs": [],
   "source": [
    "articles <- html_nodes(webpage,'article')"
   ]
  },
  {
   "cell_type": "code",
   "execution_count": null,
   "metadata": {
    "ExecuteTime": {
     "end_time": "2020-03-04T10:38:04.632373Z",
     "start_time": "2020-03-04T10:38:13.903Z"
    }
   },
   "outputs": [],
   "source": [
    "articles"
   ]
  },
  {
   "cell_type": "code",
   "execution_count": null,
   "metadata": {
    "ExecuteTime": {
     "end_time": "2020-03-04T10:44:25.810835Z",
     "start_time": "2020-03-04T10:44:35.091Z"
    }
   },
   "outputs": [],
   "source": [
    "for (i in articles){\n",
    "    title <- html_nodes(i,'.labs-docsum-title')\n",
    "    title_text <- html_text(title)\n",
    "    no_white_spaces <- gsub('\\\\s+',' ',title_text)\n",
    "    clean_text <- trimws(no_white_spaces)\n",
    "    print(clean_text)\n",
    "}"
   ]
  },
  {
   "cell_type": "markdown",
   "metadata": {},
   "source": [
    "Exercise, Try to extract authors. "
   ]
  },
  {
   "cell_type": "code",
   "execution_count": null,
   "metadata": {},
   "outputs": [],
   "source": [
    "# Exercise"
   ]
  },
  {
   "cell_type": "markdown",
   "metadata": {},
   "source": [
    "### Generate Database\n",
    "\n",
    "https://pubmed.ncbi.nlm.nih.gov/?term=astrocytes&page=2"
   ]
  },
  {
   "cell_type": "code",
   "execution_count": null,
   "metadata": {
    "ExecuteTime": {
     "end_time": "2020-03-04T10:43:26.432556Z",
     "start_time": "2020-03-04T10:41:48.526Z"
    }
   },
   "outputs": [],
   "source": [
    "url <- 'https://pubmed.ncbi.nlm.nih.gov/?term=astrocytes&page='\n",
    "url_1 <- paste(url,'1', sep='')\n",
    "\n",
    "\n",
    "titles <- c()\n",
    "for (i in 1:10){\n",
    "    url_i <- paste(url, toString(i), sep='')\n",
    "    print(url_i)\n",
    "    \n",
    "    webpage <- read_html(url_to_scrap)\n",
    "    \n",
    "    title <- html_nodes(webpage,'.labs-docsum-title')\n",
    "    title_text <- html_text(title)\n",
    "    no_white_spaces <- gsub('\\\\s+',' ',title_text)\n",
    "    clean_text <- trimws(no_white_spaces)\n",
    "\n",
    "    titles <- c(titles, clean_text)\n",
    "}\n",
    "\n",
    "print(titles)\n"
   ]
  },
  {
   "cell_type": "code",
   "execution_count": 7,
   "metadata": {
    "ExecuteTime": {
     "end_time": "2020-03-04T13:13:33.368959Z",
     "start_time": "2020-03-04T13:13:37.967Z"
    },
    "scrolled": false
   },
   "outputs": [
    {
     "name": "stdout",
     "output_type": "stream",
     "text": [
      "  [1] \"Astrocytes in neurodegenerative diseases (I): function and molecular description.\"                                                                                                                           \n",
      "  [2] \"A stocked toolbox for understanding the role of astrocytes in disease.\"                                                                                                                                      \n",
      "  [3] \"Isolation and culture of mouse cortical astrocytes.\"                                                                                                                                                         \n",
      "  [4] \"Fast Generation of Functional Subtype Astrocytes from Human Pluripotent Stem Cells.\"                                                                                                                         \n",
      "  [5] \"Multiple roles for astrocytes as effectors of cytokines and inflammatory mediators.\"                                                                                                                         \n",
      "  [6] \"Astrocytes: inexplicable cells in neurodegeneration.\"                                                                                                                                                        \n",
      "  [7] \"Specification and morphogenesis of astrocytes.\"                                                                                                                                                              \n",
      "  [8] \"Morphology and properties of astrocytes.\"                                                                                                                                                                    \n",
      "  [9] \"Uniquely hominid features of adult human astrocytes.\"                                                                                                                                                        \n",
      " [10] \"Do Evolutionary Changes in Astrocytes Contribute to the Computational Power of the Hominid Brain?\"                                                                                                           \n",
      " [11] \"Astrocytes activation contributes to the antidepressant-like effect of ketamine but not scopolamine.\"                                                                                                        \n",
      " [12] \"Phagocytic response of astrocytes to damaged neighboring cells.\"                                                                                                                                             \n",
      " [13] \"Diversity of astrocyte functions and phenotypes in neural circuits.\"                                                                                                                                         \n",
      " [14] \"Visualizing the brain's astrocytes.\"                                                                                                                                                                         \n",
      " [15] \"Involvement of astrocytes in neurovascular communication.\"                                                                                                                                                   \n",
      " [16] \"Optogenetic Interneuron Stimulation and Calcium Imaging in Astrocytes.\"                                                                                                                                      \n",
      " [17] \"Prevention of neuronal apoptosis by astrocytes through thiol-mediated stress response modulation and accelerated recovery from proteotoxic stress.\"                                                          \n",
      " [18] \"Disentangling the Role of Astrocytes in Alcohol Use Disorder.\"                                                                                                                                               \n",
      " [19] \"Loose excitation-secretion coupling in astrocytes.\"                                                                                                                                                          \n",
      " [20] \"TREK-1 mediates isoflurane-induced cytotoxicity in astrocytes.\"                                                                                                                                              \n",
      " [21] \"Astrocyte development: A Guide for the Perplexed.\"                                                                                                                                                           \n",
      " [22] \"Mitochondrial dynamics in astrocytes.\"                                                                                                                                                                       \n",
      " [23] \"Crucial role of astrocytes in temporal lobe epilepsy.\"                                                                                                                                                       \n",
      " [24] \"Dynamism of an Astrocyte In Vivo: Perspectives on Identity and Function.\"                                                                                                                                    \n",
      " [25] \"Effects of dimethyl sulfoxide on the morphology and viability of primary cultured neurons and astrocytes.\"                                                                                                   \n",
      " [26] \"Astrocyte dysfunction in Alzheimer disease.\"                                                                                                                                                                 \n",
      " [27] \"The Appropriate Marker for Astrocytes: Comparing the Distribution and Expression of Three Astrocytic Markers in Different Mouse Cerebral Regions.\"                                                           \n",
      " [28] \"Culturing In Vivo-like Murine Astrocytes Using the Fast, Simple, and Inexpensive AWESAM Protocol.\"                                                                                                           \n",
      " [29] \"\\\"Targeting astrocytes in CNS injury and disease: A translational research approach\\\".\"                                                                                                                      \n",
      " [30] \"Astrocytes are endogenous regulators of basal transmission at central synapses.\"                                                                                                                             \n",
      " [31] \"A Method to Visualize the Nanoscopic Morphology of Astrocytes In Vitro and In Situ.\"                                                                                                                         \n",
      " [32] \"Astrocyte reactivity and reactive astrogliosis: costs and benefits.\"                                                                                                                                         \n",
      " [33] \"Targeting astrocytes in brain injuries: A translational research approach.\"                                                                                                                                  \n",
      " [34] \"Control of astrocyte morphology by Rho GTPases.\"                                                                                                                                                             \n",
      " [35] \"Astrocytes as GABA-ergic and GABA-ceptive cells.\"                                                                                                                                                            \n",
      " [36] \"Cortical maps: a role for astrocytes?\"                                                                                                                                                                       \n",
      " [37] \"Astrocytes: multitalented stars of the central nervous system.\"                                                                                                                                              \n",
      " [38] \"Vanishing white matter: a leukodystrophy due to astrocytic dysfunction.\"                                                                                                                                     \n",
      " [39] \"Astrocytes, spontaneity, and the developing thalamus.\"                                                                                                                                                       \n",
      " [40] \"A novel method for culturing stellate astrocytes reveals spatially distinct Ca2+ signaling and vesicle recycling in astrocytic processes.\"                                                                   \n",
      " [41] \"Astrocyte Cultures Mimicking Brain Astrocytes in Gene Expression, Signaling, Metabolism and K(+) Uptake and Showing Astrocytic Gene Expression Overlooked by Immunohistochemistry and In Situ Hybridization.\"\n",
      " [42] \"Pharmacological Tools to Study the Role of Astrocytes in Neural Network Functions.\"                                                                                                                          \n",
      " [43] \"Astrocytes in the epileptic brain.\"                                                                                                                                                                          \n",
      " [44] \"Astrocytes and manganese neurotoxicity.\"                                                                                                                                                                     \n",
      " [45] \"The Astrocytic cAMP Pathway in Health and Disease.\"                                                                                                                                                          \n",
      " [46] \"The influence of astrocytes on the width of orientation hypercolumns in visual cortex: A computational perspective.\"                                                                                         \n",
      " [47] \"Primary cultures of astrocytes: their value in understanding astrocytes in health and disease.\"                                                                                                              \n",
      " [48] \"Astrocyte Ca²⁺ signalling: an unexpected complexity.\"                                                                                                                                                        \n",
      " [49] \"Alexander disease: an astrocytopathy that produces a leukodystrophy\"                                                                                                                                         \n",
      " [50] \"Synchronous hyperactivity and intercellular calcium waves in astrocytes in Alzheimer mice.\"                                                                                                                  \n",
      " [51] \"Astrocytes: the missing link in neurologic disease?\"                                                                                                                                                         \n",
      " [52] \"Monitoring Astrocyte Reactivity and Proliferation in Vitro Under Ischemic-Like Conditions.\"                                                                                                                  \n",
      " [53] \"Dynamic signaling between astrocytes and neurons.\"                                                                                                                                                           \n",
      " [54] \"Selective cytotoxicity of microcystins LR, LW and LF in rat astrocytes.\"                                                                                                                                     \n",
      " [55] \"p15(INK4b) regulates cell cycle signaling in hippocampal astrocytes of aged rats.\"                                                                                                                           \n",
      " [56] \"Astrocytes: form, functions, and roles in disease.\"                                                                                                                                                          \n",
      " [57] \"Molecular mechanisms of astrocyte-neuron signaling.\"                                                                                                                                                         \n",
      " [58] \"Astrocyte alterations in neurodegenerative pathologies and their modeling in human induced pluripotent stem cell platforms.\"                                                                                 \n",
      " [59] \"High frequency electrical stimulation promotes expression of extracellular matrix proteins from human astrocytes.\"                                                                                           \n",
      " [60] \"Pro-regenerative properties of cytokine-activated astrocytes.\"                                                                                                                                               \n",
      " [61] \"New roles for astrocytes (stars at last).\"                                                                                                                                                                   \n",
      " [62] \"How factors secreted from astrocytes impact myelin repair.\"                                                                                                                                                  \n",
      " [63] \"mGlu5-mediated signalling in developing astrocyte and the pathogenesis of autism spectrum disorders.\"                                                                                                        \n",
      " [64] \"Leukodystrophies due to astroyctic dysfunction\"                                                                                                                                                              \n",
      " [65] \"Astrocytes: Glutamate transport and alternate splicing of transporters.\"                                                                                                                                     \n",
      " [66] \"The active role of astrocytes in synaptic transmission.\"                                                                                                                                                     \n",
      " [67] \"Astrocytes in Alzheimer's disease: emerging roles in calcium dysregulation and synaptic plasticity.\"                                                                                                         \n",
      " [68] \"Astrocytes in neurotransmission. A review.\"                                                                                                                                                                  \n",
      " [69] \"Astrocyte´s RAGE: More Than Just a Question of Mood\"                                                                                                                                                         \n",
      " [70] \"The Antidiabetic Drug Metformin Stimulates Glycolytic Lactate Production in Cultured Primary Rat Astrocytes.\"                                                                                                \n",
      " [71] \"Mechanisms of Disease: astrocytes in neurodegenerative disease.\"                                                                                                                                             \n",
      " [72] \"Controversy surrounding the existence of discrete functional classes of astrocytes in adult gray matter.\"                                                                                                    \n",
      " [73] \"Two sides of the same coin: sodium homeostasis and signaling in astrocytes under physiological and pathophysiological conditions.\"                                                                           \n",
      " [74] \"Astrocyte-endothelial interactions and blood-brain barrier permeability.\"                                                                                                                                    \n",
      " [75] \"Protein astrogliopathies in human neurodegenerative diseases and aging\"                                                                                                                                      \n",
      " [76] \"Reactive astrocytes--a review.\"                                                                                                                                                                              \n",
      " [77] \"Plasticity of astrocytes in primary cultures: an experimental tool and a reason for methodological caution.\"                                                                                                 \n",
      " [78] \"Role of astrocytes in glutamate homeostasis: implications for excitotoxicity.\"                                                                                                                               \n",
      " [79] \"The role(s) of astrocytes and astrocyte activity in neurometabolism, neurovascular coupling, and the production of functional neuroimaging signals.\"                                                         \n",
      " [80] \"Astrocyte heterogeneity: an underappreciated topic in neurobiology.\"                                                                                                                                         \n",
      " [81] \"Glutamate and glutamine metabolism and compartmentation in astrocytes.\"                                                                                                                                      \n",
      " [82] \"The role of activated astrocytes and of the neurotrophic cytokine S100B in the pathogenesis of Alzheimer's disease.\"                                                                                         \n",
      " [83] \"Synaptic plasticity: Astrocytes wrap it up.\"                                                                                                                                                                 \n",
      " [84] \"The evidence for astrocytes as a target for central noradrenergic activity: expression of adrenergic receptors.\"                                                                                             \n",
      " [85] \"The transsulfuration pathway: a source of cysteine for glutathione in astrocytes.\"                                                                                                                           \n",
      " [86] \"ErbB receptor signaling in astrocytes: a mediator of neuron-glia communication in the mature central nervous system.\"                                                                                        \n",
      " [87] \"Astrocyte-neuron interaction at tripartite synapses.\"                                                                                                                                                        \n",
      " [88] \"Biomaterial Approaches to Modulate Reactive Astroglial Response\"                                                                                                                                             \n",
      " [89] \"Lipocalin-2 as a therapeutic target for brain injury: An astrocentric perspective\"                                                                                                                           \n",
      " [90] \"Vitamin C Promotes Astrocyte Differentiation Through DNA Hydroxymethylation.\"                                                                                                                                \n",
      " [91] \"The role of astrocytes in hepatic encephalopathy.\"                                                                                                                                                           \n",
      " [92] \"Neuronal death: is there a role for astrocytes?\"                                                                                                                                                             \n",
      " [93] \"Functional integration of the transport of ammonium, glutamate and glutamine in astrocytes.\"                                                                                                                 \n",
      " [94] \"Histamine and astrocyte function.\"                                                                                                                                                                           \n",
      " [95] \"Astrocyte Aquaporin Dynamics in Health and Disease.\"                                                                                                                                                         \n",
      " [96] \"From in silico astrocyte cell models to neuron-astrocyte network models: A review.\"                                                                                                                          \n",
      " [97] \"Glycogenolysis, an Astrocyte-Specific Reaction, is Essential for Both Astrocytic and Neuronal Activities Involved in Learning.\"                                                                              \n",
      " [98] \"Diversity of astroglial responses across human neurodegenerative disorders and brain aging\"                                                                                                                  \n",
      " [99] \"Astrocytes as modulators of mercury-induced neurotoxicity.\"                                                                                                                                                  \n",
      "[100] \"Cerebral radiofrequency exposures during adolescence: Impact on astrocytes and brain functions in healthy and pathologic rat models.\"                                                                        \n"
     ]
    }
   ],
   "source": [
    "url <- 'https://pubmed.ncbi.nlm.nih.gov/?term=astrocytes&page='\n",
    "url_1 <- paste(url,'1', sep='')\n",
    "\n",
    "\n",
    "titles <- c()\n",
    "for (i in 1:10){\n",
    "    url_i <- paste(url, toString(i), sep='')\n",
    "    \n",
    "    url_to_scrap <- html_session(url_i)\n",
    "    \n",
    "    webpage <- read_html(url_to_scrap)\n",
    "    \n",
    "    title <- html_nodes(webpage,'.labs-docsum-title')\n",
    "    title_text <- html_text(title)\n",
    "    no_white_spaces <- gsub('\\\\s+',' ',title_text)\n",
    "    clean_text <- trimws(no_white_spaces)\n",
    "\n",
    "    titles <- c(titles, clean_text)\n",
    "}\n",
    "\n",
    "print(titles)"
   ]
  },
  {
   "cell_type": "markdown",
   "metadata": {},
   "source": [
    "## APIs, easyPubMed \n",
    "\n",
    "https://cran.r-project.org/web/packages/easyPubMed/vignettes/getting_started_with_easyPubMed.html"
   ]
  },
  {
   "cell_type": "code",
   "execution_count": 10,
   "metadata": {
    "ExecuteTime": {
     "end_time": "2020-03-04T13:15:45.923986Z",
     "start_time": "2020-03-04T13:15:55.512Z"
    }
   },
   "outputs": [],
   "source": [
    "library(\"easyPubMed\")"
   ]
  },
  {
   "cell_type": "code",
   "execution_count": 11,
   "metadata": {
    "ExecuteTime": {
     "end_time": "2020-03-04T13:16:33.352416Z",
     "start_time": "2020-03-04T13:15:56.923Z"
    }
   },
   "outputs": [],
   "source": [
    "my_query <- 'Astrocytes'\n",
    "my_entrez_id <- get_pubmed_ids(my_query)\n",
    "my_abstracts_txt <- fetch_pubmed_data(my_entrez_id, format = \"abstract\")\n",
    "my_abstracts_xml <- fetch_pubmed_data(pubmed_id_list = my_entrez_id)"
   ]
  },
  {
   "cell_type": "code",
   "execution_count": 12,
   "metadata": {
    "ExecuteTime": {
     "end_time": "2020-03-04T13:21:36.934481Z",
     "start_time": "2020-03-04T13:15:57.958Z"
    }
   },
   "outputs": [],
   "source": [
    "my_titles <- custom_grep(my_abstracts_xml, \"ArticleTitle\", \"char\")"
   ]
  },
  {
   "cell_type": "code",
   "execution_count": 20,
   "metadata": {
    "ExecuteTime": {
     "end_time": "2020-03-04T13:29:01.272150Z",
     "start_time": "2020-03-04T13:29:09.190Z"
    }
   },
   "outputs": [
    {
     "data": {
      "text/html": [
       "500"
      ],
      "text/latex": [
       "500"
      ],
      "text/markdown": [
       "500"
      ],
      "text/plain": [
       "[1] 500"
      ]
     },
     "metadata": {},
     "output_type": "display_data"
    }
   ],
   "source": [
    "length(my_titles)\n",
    "\n",
    "words <- c()\n",
    "for (i in my_titles){\n",
    "    title <- strsplit(i, ' ')   #gsub('\\\\s+',' ',title_text)\n",
    "    words <- c(words, title)\n",
    "}\n",
    "words <- unlist(words)"
   ]
  },
  {
   "cell_type": "markdown",
   "metadata": {},
   "source": [
    "### Matrix of word counts"
   ]
  },
  {
   "cell_type": "code",
   "execution_count": 23,
   "metadata": {
    "ExecuteTime": {
     "end_time": "2020-03-04T13:30:29.082873Z",
     "start_time": "2020-03-04T13:30:38.676Z"
    }
   },
   "outputs": [],
   "source": [
    "# Exercise"
   ]
  },
  {
   "cell_type": "markdown",
   "metadata": {},
   "source": [
    "### Visualization of word cloud"
   ]
  },
  {
   "cell_type": "code",
   "execution_count": null,
   "metadata": {},
   "outputs": [],
   "source": [
    "# Exercise!"
   ]
  },
  {
   "cell_type": "markdown",
   "metadata": {},
   "source": [
    "## CoronaVirus"
   ]
  },
  {
   "cell_type": "code",
   "execution_count": 33,
   "metadata": {
    "ExecuteTime": {
     "end_time": "2020-03-04T13:55:54.060050Z",
     "start_time": "2020-03-04T13:55:57.893Z"
    }
   },
   "outputs": [
    {
     "name": "stderr",
     "output_type": "stream",
     "text": [
      "Downloading GitHub repo RamiKrispin/coronavirus@master\n"
     ]
    },
    {
     "name": "stdout",
     "output_type": "stream",
     "text": [
      "\u001b[32m✔\u001b[39m  \u001b[90mchecking for file ‘/tmp/Rtmp02OsHT/remotes1051321ecdd12/RamiKrispin-coronavirus-d48af6a/DESCRIPTION’\u001b[39m\u001b[36m\u001b[39m\n",
      "\u001b[90m─\u001b[39m\u001b[90m  \u001b[39m\u001b[90mpreparing ‘coronavirus’:\u001b[39m\u001b[36m\u001b[39m\n",
      "\u001b[32m✔\u001b[39m  \u001b[90mchecking DESCRIPTION meta-information\u001b[39m\u001b[36m\u001b[39m\n",
      "\u001b[90m─\u001b[39m\u001b[90m  \u001b[39m\u001b[90mchecking for LF line-endings in source and make files and shell scripts\u001b[39m\u001b[36m\u001b[39m\n",
      "\u001b[90m─\u001b[39m\u001b[90m  \u001b[39m\u001b[90mchecking for empty or unneeded directories\u001b[39m\u001b[36m\u001b[39m\n",
      "\u001b[90m─\u001b[39m\u001b[90m  \u001b[39m\u001b[90mlooking to see if a ‘data/datalist’ file should be added\u001b[39m\u001b[36m\u001b[39m\n",
      "\u001b[90m─\u001b[39m\u001b[90m  \u001b[39m\u001b[90mbuilding ‘coronavirus_0.1.0.9000.tar.gz’\u001b[39m\u001b[36m\u001b[39m\n",
      "   \n",
      "\r"
     ]
    }
   ],
   "source": [
    "devtools::install_github(\"RamiKrispin/coronavirus\")"
   ]
  },
  {
   "cell_type": "code",
   "execution_count": 54,
   "metadata": {
    "ExecuteTime": {
     "end_time": "2020-03-04T14:53:04.519327Z",
     "start_time": "2020-03-04T14:53:14.294Z"
    }
   },
   "outputs": [],
   "source": [
    "library(coronavirus) \n",
    "db <- data(\"coronavirus\") \n"
   ]
  },
  {
   "cell_type": "markdown",
   "metadata": {},
   "source": [
    "## Allen Brain Institute\n",
    "\n",
    "http://help.brain-map.org/display/api/Allen+Brain+Atlas+API\n",
    "\n",
    "http://help.brain-map.org/pages/viewpage.action?pageId=5308449\n",
    "\n",
    "http://help.brain-map.org/display/api/Downloading+3-D+Expression+Grid+Data"
   ]
  },
  {
   "cell_type": "markdown",
   "metadata": {},
   "source": [
    "### Images\n",
    "\n",
    "http://help.brain-map.org/display/api/Downloading+an+Image\n",
    "\n",
    "https://github.com/oganm/allenBrain"
   ]
  },
  {
   "cell_type": "markdown",
   "metadata": {},
   "source": [
    "#### First a dummy example"
   ]
  },
  {
   "cell_type": "code",
   "execution_count": null,
   "metadata": {},
   "outputs": [],
   "source": [
    "url <- 'https://spainweather.es/webcams/malaga/current.jpg'\n",
    "download.file(url,'test.jpg', mode = 'wb')\n",
    "jj <- readJPEG(\"test.jpg\",native=TRUE)\n",
    "plot(0:1,0:1,type=\"n\",ann=FALSE,axes=FALSE)\n",
    "rasterImage(jj,0,0,1,1)"
   ]
  },
  {
   "cell_type": "markdown",
   "metadata": {},
   "source": [
    "#### Let's try to download a specific date"
   ]
  },
  {
   "cell_type": "code",
   "execution_count": null,
   "metadata": {
    "ExecuteTime": {
     "end_time": "2020-03-04T11:12:17.459572Z",
     "start_time": "2020-03-04T11:12:20.740Z"
    }
   },
   "outputs": [],
   "source": [
    "install.packages('httr')\n",
    "url <- 'http://api.brain-map.org/api/v2/image_download/69750516?downsample=4'\n",
    "r <- httr::GET(url = url)\n",
    "img <- httr::content(r)"
   ]
  },
  {
   "cell_type": "code",
   "execution_count": null,
   "metadata": {
    "ExecuteTime": {
     "end_time": "2020-03-04T11:19:06.619005Z",
     "start_time": "2020-03-04T11:19:14.153Z"
    }
   },
   "outputs": [],
   "source": [
    "writeJPEG(img, 'test.jpg')"
   ]
  },
  {
   "cell_type": "code",
   "execution_count": null,
   "metadata": {
    "ExecuteTime": {
     "end_time": "2020-03-04T11:19:23.627604Z",
     "start_time": "2020-03-04T11:19:17.826Z"
    }
   },
   "outputs": [],
   "source": [
    "jj <- readJPEG(\"test.jpg\",native=TRUE)\n",
    "plot(0:1,0:1,type=\"n\",ann=FALSE,axes=FALSE)\n",
    "rasterImage(jj,0,0,1,1)"
   ]
  },
  {
   "cell_type": "markdown",
   "metadata": {},
   "source": [
    "### Use a tool to access to the API"
   ]
  },
  {
   "cell_type": "code",
   "execution_count": null,
   "metadata": {
    "ExecuteTime": {
     "end_time": "2020-03-04T12:51:11.685281Z",
     "start_time": "2020-03-04T12:51:09.836Z"
    }
   },
   "outputs": [],
   "source": [
    "if (!requireNamespace(\"BiocManager\", quietly = TRUE))\n",
    "    install.packages(\"BiocManager\")\n",
    "\n",
    "BiocManager::install(\"ABAData\")"
   ]
  },
  {
   "cell_type": "code",
   "execution_count": 37,
   "metadata": {
    "ExecuteTime": {
     "end_time": "2020-03-04T14:07:45.103559Z",
     "start_time": "2020-03-04T14:06:27.868Z"
    }
   },
   "outputs": [
    {
     "name": "stderr",
     "output_type": "stream",
     "text": [
      "Downloading GitHub repo oganm/allenBrain@master\n"
     ]
    },
    {
     "name": "stdout",
     "output_type": "stream",
     "text": [
      "cowplot (NA      -> 1.0.0  ) [CRAN]\n",
      "magick  (NA      -> 2.3    ) [CRAN]\n",
      "mgcv    (1.8-28  -> 1.8-31 ) [CRAN]\n",
      "scales  (1.0.0   -> 1.1.0  ) [CRAN]\n",
      "tibble  (2.1.1   -> 2.1.3  ) [CRAN]\n",
      "nlme    (3.1-139 -> 3.1-145) [CRAN]\n",
      "Matrix  (1.2-17  -> 1.2-18 ) [CRAN]\n",
      "plyr    (1.8.4   -> 1.8.6  ) [CRAN]\n",
      "pillar  (1.3.1   -> 1.4.3  ) [CRAN]\n",
      "vctrs   (NA      -> 0.2.3  ) [CRAN]\n",
      "ggplot2 (3.1.1   -> 3.2.1  ) [CRAN]\n"
     ]
    },
    {
     "name": "stderr",
     "output_type": "stream",
     "text": [
      "Installing 11 packages: cowplot, magick, mgcv, scales, tibble, nlme, Matrix, plyr, pillar, vctrs, ggplot2\n"
     ]
    },
    {
     "ename": "ERROR",
     "evalue": "Error: Failed to install 'allenBrain' from GitHub:\n  (converted from warning) installation of package ‘magick’ had non-zero exit status\n",
     "output_type": "error",
     "traceback": [
      "Error: Failed to install 'allenBrain' from GitHub:\n  (converted from warning) installation of package ‘magick’ had non-zero exit status\nTraceback:\n",
      "1. devtools::install_github(\"oganm/allenBrain\")",
      "2. pkgbuild::with_build_tools({\n .     ellipsis::check_dots_used(action = getOption(\"devtools.ellipsis_action\", \n .         rlang::warn))\n .     {\n .         remotes <- lapply(repo, github_remote, ref = ref, subdir = subdir, \n .             auth_token = auth_token, host = host)\n .         install_remotes(remotes, auth_token = auth_token, host = host, \n .             dependencies = dependencies, upgrade = upgrade, force = force, \n .             quiet = quiet, build = build, build_opts = build_opts, \n .             build_manual = build_manual, build_vignettes = build_vignettes, \n .             repos = repos, type = type, ...)\n .     }\n . }, required = FALSE)",
      "3. install_remotes(remotes, auth_token = auth_token, host = host, \n .     dependencies = dependencies, upgrade = upgrade, force = force, \n .     quiet = quiet, build = build, build_opts = build_opts, build_manual = build_manual, \n .     build_vignettes = build_vignettes, repos = repos, type = type, \n .     ...)",
      "4. tryCatch(res[[i]] <- install_remote(remotes[[i]], ...), error = function(e) {\n .     stop(remote_install_error(remotes[[i]], e))\n . })",
      "5. tryCatchList(expr, classes, parentenv, handlers)",
      "6. tryCatchOne(expr, names, parentenv, handlers[[1L]])",
      "7. value[[3L]](cond)"
     ]
    }
   ],
   "source": [
    "devtools::install_github('oganm/allenBrain')"
   ]
  },
  {
   "cell_type": "code",
   "execution_count": null,
   "metadata": {},
   "outputs": [],
   "source": [
    "library(dplyr)\n",
    "\n",
    "# get a list of structure names and ids\n",
    "IDs = getStructureIDs()\n",
    "IDs %>% head"
   ]
  },
  {
   "cell_type": "markdown",
   "metadata": {},
   "source": [
    "### Gene Expression\n",
    "\n",
    "Based in this example: \n",
    "\n",
    "http://bioconductor.org/packages/release/data/experiment/vignettes/ABAData/inst/doc/ABAData.html"
   ]
  },
  {
   "cell_type": "code",
   "execution_count": 55,
   "metadata": {
    "ExecuteTime": {
     "end_time": "2020-03-04T15:00:41.499499Z",
     "start_time": "2020-03-04T14:54:53.199Z"
    }
   },
   "outputs": [
    {
     "name": "stderr",
     "output_type": "stream",
     "text": [
      "Bioconductor version 3.10 (BiocManager 1.30.10), R 3.6.1 (2019-07-05)\n",
      "Installing package(s) 'ABAData'\n",
      "Updating HTML index of packages in '.Library'\n",
      "Making 'packages.html' ... done\n",
      "Old packages: 'askpass', 'backports', 'BH', 'bit', 'blob', 'boot', 'broom',\n",
      "  'callr', 'caret', 'clipr', 'cluster', 'data.table', 'DBI', 'dbplyr', 'dplyr',\n",
      "  'evaluate', 'forcats', 'foreach', 'foreign', 'formatR', 'ggplot2', 'glmnet',\n",
      "  'gower', 'haven', 'hexbin', 'hms', 'htmltools', 'htmlwidgets', 'httpuv',\n",
      "  'ipred', 'IRkernel', 'iterators', 'jsonlite', 'KernSmooth', 'knitr', 'later',\n",
      "  'lava', 'markdown', 'Matrix', 'mgcv', 'mime', 'ModelMetrics', 'modelr',\n",
      "  'nlme', 'nnet', 'numDeriv', 'openssl', 'pillar', 'plyr', 'prettyunits',\n",
      "  'processx', 'prodlim', 'progress', 'promises', 'ps', 'quantmod', 'recipes',\n",
      "  'repr', 'reprex', 'reticulate', 'rmarkdown', 'RODBC', 'RSQLite',\n",
      "  'rstudioapi', 'scales', 'selectr', 'shiny', 'SQUAREM', 'survival', 'sys',\n",
      "  'tibble', 'tidyr', 'tidyselect', 'tidyverse', 'tinytex', 'TTR', 'uuid',\n",
      "  'whisker', 'xfun', 'xml2', 'xts', 'yaml', 'zoo'\n",
      "Bioconductor version 3.10 (BiocManager 1.30.10), R 3.6.1 (2019-07-05)\n",
      "Installing package(s) 'ABAEnrichment'\n",
      "also installing the dependencies ‘GenomeInfoDbData’, ‘zlibbioc’, ‘sm’, ‘BiocGenerics’, ‘S4Vectors’, ‘GenomeInfoDb’, ‘XVector’, ‘Biobase’, ‘gdata’, ‘caTools’, ‘vioplot’, ‘mapplots’, ‘GenomicRanges’, ‘IRanges’, ‘AnnotationDbi’, ‘gplots’, ‘gtools’, ‘GOfuncR’\n",
      "\n",
      "Updating HTML index of packages in '.Library'\n",
      "Making 'packages.html' ... done\n",
      "Old packages: 'askpass', 'backports', 'BH', 'bit', 'blob', 'boot', 'broom',\n",
      "  'callr', 'caret', 'clipr', 'cluster', 'data.table', 'DBI', 'dbplyr', 'dplyr',\n",
      "  'evaluate', 'forcats', 'foreach', 'foreign', 'formatR', 'ggplot2', 'glmnet',\n",
      "  'gower', 'haven', 'hexbin', 'hms', 'htmltools', 'htmlwidgets', 'httpuv',\n",
      "  'ipred', 'IRkernel', 'iterators', 'jsonlite', 'KernSmooth', 'knitr', 'later',\n",
      "  'lava', 'markdown', 'Matrix', 'mgcv', 'mime', 'ModelMetrics', 'modelr',\n",
      "  'nlme', 'nnet', 'numDeriv', 'openssl', 'pillar', 'plyr', 'prettyunits',\n",
      "  'processx', 'prodlim', 'progress', 'promises', 'ps', 'quantmod', 'recipes',\n",
      "  'repr', 'reprex', 'reticulate', 'rmarkdown', 'RODBC', 'RSQLite',\n",
      "  'rstudioapi', 'scales', 'selectr', 'shiny', 'SQUAREM', 'survival', 'sys',\n",
      "  'tibble', 'tidyr', 'tidyselect', 'tidyverse', 'tinytex', 'TTR', 'uuid',\n",
      "  'whisker', 'xfun', 'xml2', 'xts', 'yaml', 'zoo'\n"
     ]
    }
   ],
   "source": [
    "if (!requireNamespace(\"BiocManager\", quietly = TRUE))\n",
    "    install.packages(\"BiocManager\")\n",
    "\n",
    "BiocManager::install(\"ABAData\")\n",
    "\n",
    "BiocManager::install(\"ABAEnrichment\")"
   ]
  },
  {
   "cell_type": "code",
   "execution_count": null,
   "metadata": {
    "ExecuteTime": {
     "start_time": "2020-03-04T14:56:03.720Z"
    }
   },
   "outputs": [],
   "source": [
    "## load ABAEnrichment software package\n",
    "require(ABAEnrichment)\n",
    "## get name and superstructures of brain region 4679\n",
    "get_name(4679)"
   ]
  },
  {
   "cell_type": "code",
   "execution_count": 56,
   "metadata": {
    "ExecuteTime": {
     "end_time": "2020-03-04T15:00:57.909459Z",
     "start_time": "2020-03-04T14:54:54.910Z"
    }
   },
   "outputs": [
    {
     "name": "stderr",
     "output_type": "stream",
     "text": [
      "Loading required package: ABAData\n"
     ]
    },
    {
     "data": {
      "text/html": [
       "<table>\n",
       "<thead><tr><th scope=col>hgnc_symbol</th><th scope=col>entrezgene</th><th scope=col>ensembl_gene_id</th><th scope=col>structure</th><th scope=col>signal</th><th scope=col>age_category</th></tr></thead>\n",
       "<tbody>\n",
       "\t<tr><td>A1BG           </td><td>1              </td><td>ENSG00000121410</td><td>4679           </td><td>4.579497       </td><td>5              </td></tr>\n",
       "\t<tr><td>A1BG           </td><td>1              </td><td>ENSG00000121410</td><td>4909           </td><td>4.515927       </td><td>5              </td></tr>\n",
       "\t<tr><td>A1BG           </td><td>1              </td><td>ENSG00000121410</td><td>4307           </td><td>5.016984       </td><td>5              </td></tr>\n",
       "\t<tr><td>A1BG           </td><td>1              </td><td>ENSG00000121410</td><td>4139           </td><td>5.119118       </td><td>5              </td></tr>\n",
       "\t<tr><td>A1BG           </td><td>1              </td><td>ENSG00000121410</td><td>4124           </td><td>5.028861       </td><td>5              </td></tr>\n",
       "\t<tr><td>A1BG           </td><td>1              </td><td>ENSG00000121410</td><td>4033           </td><td>4.938708       </td><td>5              </td></tr>\n",
       "</tbody>\n",
       "</table>\n"
      ],
      "text/latex": [
       "\\begin{tabular}{r|llllll}\n",
       " hgnc\\_symbol & entrezgene & ensembl\\_gene\\_id & structure & signal & age\\_category\\\\\n",
       "\\hline\n",
       "\t A1BG            & 1               & ENSG00000121410 & 4679            & 4.579497        & 5              \\\\\n",
       "\t A1BG            & 1               & ENSG00000121410 & 4909            & 4.515927        & 5              \\\\\n",
       "\t A1BG            & 1               & ENSG00000121410 & 4307            & 5.016984        & 5              \\\\\n",
       "\t A1BG            & 1               & ENSG00000121410 & 4139            & 5.119118        & 5              \\\\\n",
       "\t A1BG            & 1               & ENSG00000121410 & 4124            & 5.028861        & 5              \\\\\n",
       "\t A1BG            & 1               & ENSG00000121410 & 4033            & 4.938708        & 5              \\\\\n",
       "\\end{tabular}\n"
      ],
      "text/markdown": [
       "\n",
       "| hgnc_symbol | entrezgene | ensembl_gene_id | structure | signal | age_category |\n",
       "|---|---|---|---|---|---|\n",
       "| A1BG            | 1               | ENSG00000121410 | 4679            | 4.579497        | 5               |\n",
       "| A1BG            | 1               | ENSG00000121410 | 4909            | 4.515927        | 5               |\n",
       "| A1BG            | 1               | ENSG00000121410 | 4307            | 5.016984        | 5               |\n",
       "| A1BG            | 1               | ENSG00000121410 | 4139            | 5.119118        | 5               |\n",
       "| A1BG            | 1               | ENSG00000121410 | 4124            | 5.028861        | 5               |\n",
       "| A1BG            | 1               | ENSG00000121410 | 4033            | 4.938708        | 5               |\n",
       "\n"
      ],
      "text/plain": [
       "  hgnc_symbol entrezgene ensembl_gene_id structure signal   age_category\n",
       "1 A1BG        1          ENSG00000121410 4679      4.579497 5           \n",
       "2 A1BG        1          ENSG00000121410 4909      4.515927 5           \n",
       "3 A1BG        1          ENSG00000121410 4307      5.016984 5           \n",
       "4 A1BG        1          ENSG00000121410 4139      5.119118 5           \n",
       "5 A1BG        1          ENSG00000121410 4124      5.028861 5           \n",
       "6 A1BG        1          ENSG00000121410 4033      4.938708 5           "
      ]
     },
     "metadata": {},
     "output_type": "display_data"
    }
   ],
   "source": [
    "## load package\n",
    "require(ABAData)\n",
    "## require averaged gene expression data (microarray) from adult human brain regions\n",
    "data(dataset_adult)\n",
    "## look at first lines\n",
    "head(dataset_adult)"
   ]
  },
  {
   "cell_type": "markdown",
   "metadata": {},
   "source": [
    "## Restful Model Access\n",
    "\n",
    "\n",
    "\n",
    "```\n",
    "http://api.brain-map.org/api/v2/data/Chromosome/12.json\n",
    "```\n",
    "http://help.brain-map.org/pages/viewpage.action?pageId=5308449"
   ]
  },
  {
   "cell_type": "code",
   "execution_count": 41,
   "metadata": {
    "ExecuteTime": {
     "end_time": "2020-03-04T14:35:45.151005Z",
     "start_time": "2020-03-04T14:35:54.872Z"
    }
   },
   "outputs": [],
   "source": [
    "library(jsonlite)"
   ]
  },
  {
   "cell_type": "code",
   "execution_count": 44,
   "metadata": {
    "ExecuteTime": {
     "end_time": "2020-03-04T14:37:47.736668Z",
     "start_time": "2020-03-04T14:37:57.085Z"
    }
   },
   "outputs": [
    {
     "data": {
      "text/html": [
       "<dl>\n",
       "\t<dt>$success</dt>\n",
       "\t\t<dd>TRUE</dd>\n",
       "\t<dt>$id</dt>\n",
       "\t\t<dd>0</dd>\n",
       "\t<dt>$start_row</dt>\n",
       "\t\t<dd>0</dd>\n",
       "\t<dt>$num_rows</dt>\n",
       "\t\t<dd>1</dd>\n",
       "\t<dt>$total_rows</dt>\n",
       "\t\t<dd>1</dd>\n",
       "\t<dt>$msg</dt>\n",
       "\t\t<dd><table>\n",
       "<thead><tr><th scope=col>id</th><th scope=col>name</th><th scope=col>organism_id</th></tr></thead>\n",
       "<tbody>\n",
       "\t<tr><td>12</td><td>19</td><td>1 </td></tr>\n",
       "</tbody>\n",
       "</table>\n",
       "</dd>\n",
       "</dl>\n"
      ],
      "text/latex": [
       "\\begin{description}\n",
       "\\item[\\$success] TRUE\n",
       "\\item[\\$id] 0\n",
       "\\item[\\$start\\_row] 0\n",
       "\\item[\\$num\\_rows] 1\n",
       "\\item[\\$total\\_rows] 1\n",
       "\\item[\\$msg] \\begin{tabular}{r|lll}\n",
       " id & name & organism\\_id\\\\\n",
       "\\hline\n",
       "\t 12 & 19 & 1 \\\\\n",
       "\\end{tabular}\n",
       "\n",
       "\\end{description}\n"
      ],
      "text/markdown": [
       "$success\n",
       ":   TRUE\n",
       "$id\n",
       ":   0\n",
       "$start_row\n",
       ":   0\n",
       "$num_rows\n",
       ":   1\n",
       "$total_rows\n",
       ":   1\n",
       "$msg\n",
       ":   \n",
       "| id | name | organism_id |\n",
       "|---|---|---|\n",
       "| 12 | 19 | 1  |\n",
       "\n",
       "\n",
       "\n",
       "\n"
      ],
      "text/plain": [
       "$success\n",
       "[1] TRUE\n",
       "\n",
       "$id\n",
       "[1] 0\n",
       "\n",
       "$start_row\n",
       "[1] 0\n",
       "\n",
       "$num_rows\n",
       "[1] 1\n",
       "\n",
       "$total_rows\n",
       "[1] 1\n",
       "\n",
       "$msg\n",
       "  id name organism_id\n",
       "1 12   19           1\n"
      ]
     },
     "metadata": {},
     "output_type": "display_data"
    }
   ],
   "source": [
    "url <- 'http://api.brain-map.org/api/v2/data/Chromosome/12.json'\n",
    "r <- httr::GET(url = url)\n",
    "json <- httr::content(r, as = \"text\", encoding = \"UTF-8\")\n",
    "df <- fromJSON(json,flatten = TRUE)\n",
    "df\n"
   ]
  },
  {
   "cell_type": "markdown",
   "metadata": {},
   "source": [
    "We can use prettify to see the structure of JSON"
   ]
  },
  {
   "cell_type": "code",
   "execution_count": 45,
   "metadata": {
    "ExecuteTime": {
     "end_time": "2020-03-04T14:37:53.051986Z",
     "start_time": "2020-03-04T14:38:00.950Z"
    }
   },
   "outputs": [
    {
     "data": {
      "text/plain": [
       "{\n",
       "    \"success\": true,\n",
       "    \"id\": 0,\n",
       "    \"start_row\": 0,\n",
       "    \"num_rows\": 1,\n",
       "    \"total_rows\": 1,\n",
       "    \"msg\": [\n",
       "        {\n",
       "            \"id\": 12,\n",
       "            \"name\": \"19\",\n",
       "            \"organism_id\": 1\n",
       "        }\n",
       "    ]\n",
       "}\n",
       " "
      ]
     },
     "metadata": {},
     "output_type": "display_data"
    }
   ],
   "source": [
    "prettify(json, indent = 4)"
   ]
  },
  {
   "cell_type": "markdown",
   "metadata": {},
   "source": [
    "#### Retrieving an Chromosome and include information from organism \n",
    "\n",
    "we add `?include=organism`"
   ]
  },
  {
   "cell_type": "code",
   "execution_count": 48,
   "metadata": {
    "ExecuteTime": {
     "end_time": "2020-03-04T14:41:20.754508Z",
     "start_time": "2020-03-04T14:41:30.115Z"
    }
   },
   "outputs": [
    {
     "data": {
      "text/html": [
       "<dl>\n",
       "\t<dt>$success</dt>\n",
       "\t\t<dd>TRUE</dd>\n",
       "\t<dt>$id</dt>\n",
       "\t\t<dd>0</dd>\n",
       "\t<dt>$start_row</dt>\n",
       "\t\t<dd>0</dd>\n",
       "\t<dt>$num_rows</dt>\n",
       "\t\t<dd>1</dd>\n",
       "\t<dt>$total_rows</dt>\n",
       "\t\t<dd>1</dd>\n",
       "\t<dt>$msg</dt>\n",
       "\t\t<dd><table>\n",
       "<thead><tr><th scope=col>id</th><th scope=col>name</th><th scope=col>organism_id</th><th scope=col>organism.id</th><th scope=col>organism.name</th><th scope=col>organism.ncbitaxonomyid</th><th scope=col>organism.tags</th></tr></thead>\n",
       "<tbody>\n",
       "\t<tr><td>12                        </td><td>19                        </td><td>1                         </td><td>1                         </td><td>Homo Sapiens              </td><td>9606                      </td><td>human primate Homo Sapiens</td></tr>\n",
       "</tbody>\n",
       "</table>\n",
       "</dd>\n",
       "</dl>\n"
      ],
      "text/latex": [
       "\\begin{description}\n",
       "\\item[\\$success] TRUE\n",
       "\\item[\\$id] 0\n",
       "\\item[\\$start\\_row] 0\n",
       "\\item[\\$num\\_rows] 1\n",
       "\\item[\\$total\\_rows] 1\n",
       "\\item[\\$msg] \\begin{tabular}{r|lllllll}\n",
       " id & name & organism\\_id & organism.id & organism.name & organism.ncbitaxonomyid & organism.tags\\\\\n",
       "\\hline\n",
       "\t 12                         & 19                         & 1                          & 1                          & Homo Sapiens               & 9606                       & human primate Homo Sapiens\\\\\n",
       "\\end{tabular}\n",
       "\n",
       "\\end{description}\n"
      ],
      "text/markdown": [
       "$success\n",
       ":   TRUE\n",
       "$id\n",
       ":   0\n",
       "$start_row\n",
       ":   0\n",
       "$num_rows\n",
       ":   1\n",
       "$total_rows\n",
       ":   1\n",
       "$msg\n",
       ":   \n",
       "| id | name | organism_id | organism.id | organism.name | organism.ncbitaxonomyid | organism.tags |\n",
       "|---|---|---|---|---|---|---|\n",
       "| 12                         | 19                         | 1                          | 1                          | Homo Sapiens               | 9606                       | human primate Homo Sapiens |\n",
       "\n",
       "\n",
       "\n",
       "\n"
      ],
      "text/plain": [
       "$success\n",
       "[1] TRUE\n",
       "\n",
       "$id\n",
       "[1] 0\n",
       "\n",
       "$start_row\n",
       "[1] 0\n",
       "\n",
       "$num_rows\n",
       "[1] 1\n",
       "\n",
       "$total_rows\n",
       "[1] 1\n",
       "\n",
       "$msg\n",
       "  id name organism_id organism.id organism.name organism.ncbitaxonomyid\n",
       "1 12   19           1           1  Homo Sapiens                    9606\n",
       "               organism.tags\n",
       "1 human primate Homo Sapiens\n"
      ]
     },
     "metadata": {},
     "output_type": "display_data"
    }
   ],
   "source": [
    "url <- 'http://api.brain-map.org/api/v2/data/Chromosome/12.json?include=organism'\n",
    "\n",
    "r <- httr::GET(url = url)\n",
    "json <- httr::content(r, as = \"text\", encoding = \"UTF-8\")\n",
    "\n",
    "df <- fromJSON(json,flatten = TRUE)\n",
    "df"
   ]
  },
  {
   "cell_type": "markdown",
   "metadata": {},
   "source": [
    "#### Image to Atlas information"
   ]
  },
  {
   "cell_type": "code",
   "execution_count": 51,
   "metadata": {
    "ExecuteTime": {
     "end_time": "2020-03-04T14:42:17.442440Z",
     "start_time": "2020-03-04T14:42:26.964Z"
    }
   },
   "outputs": [
    {
     "data": {
      "text/html": [
       "<dl>\n",
       "\t<dt>$success</dt>\n",
       "\t\t<dd>TRUE</dd>\n",
       "\t<dt>$id</dt>\n",
       "\t\t<dd>0</dd>\n",
       "\t<dt>$start_row</dt>\n",
       "\t\t<dd>0</dd>\n",
       "\t<dt>$num_rows</dt>\n",
       "\t\t<dd>0</dd>\n",
       "\t<dt>$total_rows</dt>\n",
       "\t\t<dd>0</dd>\n",
       "\t<dt>$msg</dt>\n",
       "\t\t<dd><strong>$image_sync</strong> = <dl>\n",
       "\t<dt>$section_data_set_id</dt>\n",
       "\t\t<dd>NULL</dd>\n",
       "\t<dt>$section_image_id</dt>\n",
       "\t\t<dd>100960289</dd>\n",
       "\t<dt>$section_number</dt>\n",
       "\t\t<dd>234</dd>\n",
       "\t<dt>$x</dt>\n",
       "\t\t<dd>6618.29718853523</dd>\n",
       "\t<dt>$y</dt>\n",
       "\t\t<dd>2937.49354327829</dd>\n",
       "</dl>\n",
       "</dd>\n",
       "</dl>\n"
      ],
      "text/latex": [
       "\\begin{description}\n",
       "\\item[\\$success] TRUE\n",
       "\\item[\\$id] 0\n",
       "\\item[\\$start\\_row] 0\n",
       "\\item[\\$num\\_rows] 0\n",
       "\\item[\\$total\\_rows] 0\n",
       "\\item[\\$msg] \\textbf{\\$image\\_sync} = \\begin{description}\n",
       "\\item[\\$section\\_data\\_set\\_id] NULL\n",
       "\\item[\\$section\\_image\\_id] 100960289\n",
       "\\item[\\$section\\_number] 234\n",
       "\\item[\\$x] 6618.29718853523\n",
       "\\item[\\$y] 2937.49354327829\n",
       "\\end{description}\n",
       "\n",
       "\\end{description}\n"
      ],
      "text/markdown": [
       "$success\n",
       ":   TRUE\n",
       "$id\n",
       ":   0\n",
       "$start_row\n",
       ":   0\n",
       "$num_rows\n",
       ":   0\n",
       "$total_rows\n",
       ":   0\n",
       "$msg\n",
       ":   **$image_sync** = $section_data_set_id\n",
       ":   NULL\n",
       "$section_image_id\n",
       ":   100960289\n",
       "$section_number\n",
       ":   234\n",
       "$x\n",
       ":   6618.29718853523\n",
       "$y\n",
       ":   2937.49354327829\n",
       "\n",
       "\n",
       "\n",
       "\n",
       "\n"
      ],
      "text/plain": [
       "$success\n",
       "[1] TRUE\n",
       "\n",
       "$id\n",
       "[1] 0\n",
       "\n",
       "$start_row\n",
       "[1] 0\n",
       "\n",
       "$num_rows\n",
       "[1] 0\n",
       "\n",
       "$total_rows\n",
       "[1] 0\n",
       "\n",
       "$msg\n",
       "$msg$image_sync\n",
       "$msg$image_sync$section_data_set_id\n",
       "NULL\n",
       "\n",
       "$msg$image_sync$section_image_id\n",
       "[1] 100960289\n",
       "\n",
       "$msg$image_sync$section_number\n",
       "[1] 234\n",
       "\n",
       "$msg$image_sync$x\n",
       "[1] 6618.297\n",
       "\n",
       "$msg$image_sync$y\n",
       "[1] 2937.494\n",
       "\n",
       "\n"
      ]
     },
     "metadata": {},
     "output_type": "display_data"
    }
   ],
   "source": [
    "url <- 'http://api.brain-map.org/api/v2/image_to_atlas/68173101.json?x=6208&y=2368&atlas_id=1'\n",
    "r <- httr::GET(url = url)\n",
    "json <- httr::content(r, as = \"text\", encoding = \"UTF-8\")\n",
    "\n",
    "df <- fromJSON(json,flatten = TRUE)\n",
    "df"
   ]
  },
  {
   "cell_type": "markdown",
   "metadata": {},
   "source": [
    "#### Products Lists"
   ]
  },
  {
   "cell_type": "code",
   "execution_count": 52,
   "metadata": {
    "ExecuteTime": {
     "end_time": "2020-03-04T14:50:57.798535Z",
     "start_time": "2020-03-04T14:51:07.180Z"
    }
   },
   "outputs": [
    {
     "data": {
      "text/html": [
       "<dl>\n",
       "\t<dt>$success</dt>\n",
       "\t\t<dd>TRUE</dd>\n",
       "\t<dt>$id</dt>\n",
       "\t\t<dd>0</dd>\n",
       "\t<dt>$start_row</dt>\n",
       "\t\t<dd>20</dd>\n",
       "\t<dt>$num_rows</dt>\n",
       "\t\t<dd>10</dd>\n",
       "\t<dt>$total_rows</dt>\n",
       "\t\t<dd>52</dd>\n",
       "\t<dt>$msg</dt>\n",
       "\t\t<dd><table>\n",
       "<thead><tr><th scope=col>abbreviation</th><th scope=col>description</th><th scope=col>id</th><th scope=col>name</th><th scope=col>product_name_facet</th><th scope=col>resource</th><th scope=col>species</th><th scope=col>species_name_facet</th><th scope=col>tags</th></tr></thead>\n",
       "<tbody>\n",
       "\t<tr><td>Mouse                                                                                                                                                                               </td><td>Genome-wide, high-resolution ISH data detailing gene expression throughout the adult mouse brain.                                                                                   </td><td> 1                                                                                                                                                                                  </td><td>Mouse Brain                                                                                                                                                                         </td><td>2757464828                                                                                                                                                                          </td><td>Allen Mouse Brain Atlas                                                                                                                                                             </td><td>Mouse                                                                                                                                                                               </td><td>1861523945                                                                                                                                                                          </td><td>NA                                                                                                                                                                                  </td></tr>\n",
       "\t<tr><td>MouseRef                                                                                                                                                                            </td><td>Reference datasets created for the Allen Mouse Brain Atlas.                                                                                                                         </td><td>12                                                                                                                                                                                  </td><td>Mouse Brain Reference Data                                                                                                                                                          </td><td>3732634848                                                                                                                                                                          </td><td>Allen Mouse Brain Atlas                                                                                                                                                             </td><td>Mouse                                                                                                                                                                               </td><td>1861523945                                                                                                                                                                          </td><td>NA                                                                                                                                                                                  </td></tr>\n",
       "\t<tr><td>MouseCellTypes                                                                                                                                                                      </td><td>Allen Cell Types Database                                                                                                                                                           </td><td>33                                                                                                                                                                                  </td><td>Mouse Cell Types                                                                                                                                                                    </td><td>1945280279                                                                                                                                                                          </td><td>Mouse Cell Types Database.                                                                                                                                                          </td><td>Mouse                                                                                                                                                                               </td><td>1861523945                                                                                                                                                                          </td><td>mouse neuron neuronal cell electrophysiology ephys current clamp patch morphology dendritic tree glif biophysical perisomatic active dendrite model abstract point visual cortex vis</td></tr>\n",
       "\t<tr><td>MouseCellTypesTranscriptomics                                                                                                                                                       </td><td>Allen Cell Types Database - transcriptomics data                                                                                                                                    </td><td>38                                                                                                                                                                                  </td><td>Mouse Cell Types - transcriptomics data                                                                                                                                             </td><td>2358178325                                                                                                                                                                          </td><td>Mouse Cell Types Database                                                                                                                                                           </td><td>Mouse                                                                                                                                                                               </td><td>1861523945                                                                                                                                                                          </td><td>NA                                                                                                                                                                                  </td></tr>\n",
       "\t<tr><td>ConnAntCreEGFP                                                                                                                                                                      </td><td> Image data of the mouse brain detailing axonal projections labeled by viral tracers                                                                                                </td><td>35                                                                                                                                                                                  </td><td>Mouse Connectivity anterograde Cre-defined EGFP                                                                                                                                     </td><td>2859019029                                                                                                                                                                          </td><td>Allen Mouse Brain Connectivity Atlas                                                                                                                                                </td><td>Mouse                                                                                                                                                                               </td><td>1861523945                                                                                                                                                                          </td><td>NA                                                                                                                                                                                  </td></tr>\n",
       "\t<tr><td>ConnAntCreSypEGFP                                                                                                                                                                   </td><td> Image data of the mouse brain detailing pre-synaptic terminals labeled by viral tracers                                                                                            </td><td>36                                                                                                                                                                                  </td><td>Mouse Connectivity anterograde Cre-defined SypEGFP                                                                                                                                  </td><td>1828166438                                                                                                                                                                          </td><td>Allen Mouse Brain Connectivity Atlas                                                                                                                                                </td><td>Mouse                                                                                                                                                                               </td><td>1861523945                                                                                                                                                                          </td><td>NA                                                                                                                                                                                  </td></tr>\n",
       "\t<tr><td>ConnBdaAav                                                                                                                                                                          </td><td>High-resolution histology data directly comparing viral rAAV and conventional BDA tracers, as well as SMI-32 staining in the mouse brain.                                           </td><td> 6                                                                                                                                                                                  </td><td>Mouse Connectivity BDA/AAV Comparison                                                                                                                                               </td><td>2780212373                                                                                                                                                                          </td><td>Allen Mouse Brain Connectivity Atlas                                                                                                                                                </td><td>Mouse                                                                                                                                                                               </td><td>1861523945                                                                                                                                                                          </td><td>NA                                                                                                                                                                                  </td></tr>\n",
       "\t<tr><td>ConnRetinaFlat                                                                                                                                                                      </td><td>Fluorescent images of viral tracer injection site in mouse retina.                                                                                                                  </td><td>30                                                                                                                                                                                  </td><td>Mouse Connectivity Flatmount Retina                                                                                                                                                 </td><td>2047136518                                                                                                                                                                          </td><td>Allen Mouse Brain Connectivity Atlas                                                                                                                                                </td><td>Mouse                                                                                                                                                                               </td><td>1861523945                                                                                                                                                                          </td><td>NA                                                                                                                                                                                  </td></tr>\n",
       "\t<tr><td>ConnProj                                                                                                                                                                            </td><td>Image data of the mouse brain detailing axonal projections labeled by viral tracers.                                                                                                </td><td> 5                                                                                                                                                                                  </td><td>Mouse Connectivity Projection                                                                                                                                                       </td><td>3981643079                                                                                                                                                                          </td><td>Allen Mouse Brain Connectivity Atlas                                                                                                                                                </td><td>Mouse                                                                                                                                                                               </td><td>1861523945                                                                                                                                                                          </td><td>NA                                                                                                                                                                                  </td></tr>\n",
       "\t<tr><td>ConnRef                                                                                                                                                                             </td><td>Reference datasets created for the Allen Mouse Brain Connectivity Atlas.                                                                                                            </td><td> 7                                                                                                                                                                                  </td><td>Mouse Connectivity Reference Data                                                                                                                                                   </td><td>3548889432                                                                                                                                                                          </td><td>Allen Mouse Brain Connectivity Atlas                                                                                                                                                </td><td>Mouse                                                                                                                                                                               </td><td>1861523945                                                                                                                                                                          </td><td>NA                                                                                                                                                                                  </td></tr>\n",
       "</tbody>\n",
       "</table>\n",
       "</dd>\n",
       "</dl>\n"
      ],
      "text/latex": [
       "\\begin{description}\n",
       "\\item[\\$success] TRUE\n",
       "\\item[\\$id] 0\n",
       "\\item[\\$start\\_row] 20\n",
       "\\item[\\$num\\_rows] 10\n",
       "\\item[\\$total\\_rows] 52\n",
       "\\item[\\$msg] \\begin{tabular}{r|lllllllll}\n",
       " abbreviation & description & id & name & product\\_name\\_facet & resource & species & species\\_name\\_facet & tags\\\\\n",
       "\\hline\n",
       "\t Mouse                                                                                                                                                                                & Genome-wide, high-resolution ISH data detailing gene expression throughout the adult mouse brain.                                                                                    &  1                                                                                                                                                                                   & Mouse Brain                                                                                                                                                                          & 2757464828                                                                                                                                                                           & Allen Mouse Brain Atlas                                                                                                                                                              & Mouse                                                                                                                                                                                & 1861523945                                                                                                                                                                           & NA                                                                                                                                                                                  \\\\\n",
       "\t MouseRef                                                                                                                                                                             & Reference datasets created for the Allen Mouse Brain Atlas.                                                                                                                          & 12                                                                                                                                                                                   & Mouse Brain Reference Data                                                                                                                                                           & 3732634848                                                                                                                                                                           & Allen Mouse Brain Atlas                                                                                                                                                              & Mouse                                                                                                                                                                                & 1861523945                                                                                                                                                                           & NA                                                                                                                                                                                  \\\\\n",
       "\t MouseCellTypes                                                                                                                                                                       & Allen Cell Types Database                                                                                                                                                            & 33                                                                                                                                                                                   & Mouse Cell Types                                                                                                                                                                     & 1945280279                                                                                                                                                                           & Mouse Cell Types Database.                                                                                                                                                           & Mouse                                                                                                                                                                                & 1861523945                                                                                                                                                                           & mouse neuron neuronal cell electrophysiology ephys current clamp patch morphology dendritic tree glif biophysical perisomatic active dendrite model abstract point visual cortex vis\\\\\n",
       "\t MouseCellTypesTranscriptomics                                                                                                                                                        & Allen Cell Types Database - transcriptomics data                                                                                                                                     & 38                                                                                                                                                                                   & Mouse Cell Types - transcriptomics data                                                                                                                                              & 2358178325                                                                                                                                                                           & Mouse Cell Types Database                                                                                                                                                            & Mouse                                                                                                                                                                                & 1861523945                                                                                                                                                                           & NA                                                                                                                                                                                  \\\\\n",
       "\t ConnAntCreEGFP                                                                                                                                                                       &  Image data of the mouse brain detailing axonal projections labeled by viral tracers                                                                                                 & 35                                                                                                                                                                                   & Mouse Connectivity anterograde Cre-defined EGFP                                                                                                                                      & 2859019029                                                                                                                                                                           & Allen Mouse Brain Connectivity Atlas                                                                                                                                                 & Mouse                                                                                                                                                                                & 1861523945                                                                                                                                                                           & NA                                                                                                                                                                                  \\\\\n",
       "\t ConnAntCreSypEGFP                                                                                                                                                                    &  Image data of the mouse brain detailing pre-synaptic terminals labeled by viral tracers                                                                                             & 36                                                                                                                                                                                   & Mouse Connectivity anterograde Cre-defined SypEGFP                                                                                                                                   & 1828166438                                                                                                                                                                           & Allen Mouse Brain Connectivity Atlas                                                                                                                                                 & Mouse                                                                                                                                                                                & 1861523945                                                                                                                                                                           & NA                                                                                                                                                                                  \\\\\n",
       "\t ConnBdaAav                                                                                                                                                                           & High-resolution histology data directly comparing viral rAAV and conventional BDA tracers, as well as SMI-32 staining in the mouse brain.                                            &  6                                                                                                                                                                                   & Mouse Connectivity BDA/AAV Comparison                                                                                                                                                & 2780212373                                                                                                                                                                           & Allen Mouse Brain Connectivity Atlas                                                                                                                                                 & Mouse                                                                                                                                                                                & 1861523945                                                                                                                                                                           & NA                                                                                                                                                                                  \\\\\n",
       "\t ConnRetinaFlat                                                                                                                                                                       & Fluorescent images of viral tracer injection site in mouse retina.                                                                                                                   & 30                                                                                                                                                                                   & Mouse Connectivity Flatmount Retina                                                                                                                                                  & 2047136518                                                                                                                                                                           & Allen Mouse Brain Connectivity Atlas                                                                                                                                                 & Mouse                                                                                                                                                                                & 1861523945                                                                                                                                                                           & NA                                                                                                                                                                                  \\\\\n",
       "\t ConnProj                                                                                                                                                                             & Image data of the mouse brain detailing axonal projections labeled by viral tracers.                                                                                                 &  5                                                                                                                                                                                   & Mouse Connectivity Projection                                                                                                                                                        & 3981643079                                                                                                                                                                           & Allen Mouse Brain Connectivity Atlas                                                                                                                                                 & Mouse                                                                                                                                                                                & 1861523945                                                                                                                                                                           & NA                                                                                                                                                                                  \\\\\n",
       "\t ConnRef                                                                                                                                                                              & Reference datasets created for the Allen Mouse Brain Connectivity Atlas.                                                                                                             &  7                                                                                                                                                                                   & Mouse Connectivity Reference Data                                                                                                                                                    & 3548889432                                                                                                                                                                           & Allen Mouse Brain Connectivity Atlas                                                                                                                                                 & Mouse                                                                                                                                                                                & 1861523945                                                                                                                                                                           & NA                                                                                                                                                                                  \\\\\n",
       "\\end{tabular}\n",
       "\n",
       "\\end{description}\n"
      ],
      "text/markdown": [
       "$success\n",
       ":   TRUE\n",
       "$id\n",
       ":   0\n",
       "$start_row\n",
       ":   20\n",
       "$num_rows\n",
       ":   10\n",
       "$total_rows\n",
       ":   52\n",
       "$msg\n",
       ":   \n",
       "| abbreviation | description | id | name | product_name_facet | resource | species | species_name_facet | tags |\n",
       "|---|---|---|---|---|---|---|---|---|\n",
       "| Mouse                                                                                                                                                                                | Genome-wide, high-resolution ISH data detailing gene expression throughout the adult mouse brain.                                                                                    |  1                                                                                                                                                                                   | Mouse Brain                                                                                                                                                                          | 2757464828                                                                                                                                                                           | Allen Mouse Brain Atlas                                                                                                                                                              | Mouse                                                                                                                                                                                | 1861523945                                                                                                                                                                           | NA                                                                                                                                                                                   |\n",
       "| MouseRef                                                                                                                                                                             | Reference datasets created for the Allen Mouse Brain Atlas.                                                                                                                          | 12                                                                                                                                                                                   | Mouse Brain Reference Data                                                                                                                                                           | 3732634848                                                                                                                                                                           | Allen Mouse Brain Atlas                                                                                                                                                              | Mouse                                                                                                                                                                                | 1861523945                                                                                                                                                                           | NA                                                                                                                                                                                   |\n",
       "| MouseCellTypes                                                                                                                                                                       | Allen Cell Types Database                                                                                                                                                            | 33                                                                                                                                                                                   | Mouse Cell Types                                                                                                                                                                     | 1945280279                                                                                                                                                                           | Mouse Cell Types Database.                                                                                                                                                           | Mouse                                                                                                                                                                                | 1861523945                                                                                                                                                                           | mouse neuron neuronal cell electrophysiology ephys current clamp patch morphology dendritic tree glif biophysical perisomatic active dendrite model abstract point visual cortex vis |\n",
       "| MouseCellTypesTranscriptomics                                                                                                                                                        | Allen Cell Types Database - transcriptomics data                                                                                                                                     | 38                                                                                                                                                                                   | Mouse Cell Types - transcriptomics data                                                                                                                                              | 2358178325                                                                                                                                                                           | Mouse Cell Types Database                                                                                                                                                            | Mouse                                                                                                                                                                                | 1861523945                                                                                                                                                                           | NA                                                                                                                                                                                   |\n",
       "| ConnAntCreEGFP                                                                                                                                                                       |  Image data of the mouse brain detailing axonal projections labeled by viral tracers                                                                                                 | 35                                                                                                                                                                                   | Mouse Connectivity anterograde Cre-defined EGFP                                                                                                                                      | 2859019029                                                                                                                                                                           | Allen Mouse Brain Connectivity Atlas                                                                                                                                                 | Mouse                                                                                                                                                                                | 1861523945                                                                                                                                                                           | NA                                                                                                                                                                                   |\n",
       "| ConnAntCreSypEGFP                                                                                                                                                                    |  Image data of the mouse brain detailing pre-synaptic terminals labeled by viral tracers                                                                                             | 36                                                                                                                                                                                   | Mouse Connectivity anterograde Cre-defined SypEGFP                                                                                                                                   | 1828166438                                                                                                                                                                           | Allen Mouse Brain Connectivity Atlas                                                                                                                                                 | Mouse                                                                                                                                                                                | 1861523945                                                                                                                                                                           | NA                                                                                                                                                                                   |\n",
       "| ConnBdaAav                                                                                                                                                                           | High-resolution histology data directly comparing viral rAAV and conventional BDA tracers, as well as SMI-32 staining in the mouse brain.                                            |  6                                                                                                                                                                                   | Mouse Connectivity BDA/AAV Comparison                                                                                                                                                | 2780212373                                                                                                                                                                           | Allen Mouse Brain Connectivity Atlas                                                                                                                                                 | Mouse                                                                                                                                                                                | 1861523945                                                                                                                                                                           | NA                                                                                                                                                                                   |\n",
       "| ConnRetinaFlat                                                                                                                                                                       | Fluorescent images of viral tracer injection site in mouse retina.                                                                                                                   | 30                                                                                                                                                                                   | Mouse Connectivity Flatmount Retina                                                                                                                                                  | 2047136518                                                                                                                                                                           | Allen Mouse Brain Connectivity Atlas                                                                                                                                                 | Mouse                                                                                                                                                                                | 1861523945                                                                                                                                                                           | NA                                                                                                                                                                                   |\n",
       "| ConnProj                                                                                                                                                                             | Image data of the mouse brain detailing axonal projections labeled by viral tracers.                                                                                                 |  5                                                                                                                                                                                   | Mouse Connectivity Projection                                                                                                                                                        | 3981643079                                                                                                                                                                           | Allen Mouse Brain Connectivity Atlas                                                                                                                                                 | Mouse                                                                                                                                                                                | 1861523945                                                                                                                                                                           | NA                                                                                                                                                                                   |\n",
       "| ConnRef                                                                                                                                                                              | Reference datasets created for the Allen Mouse Brain Connectivity Atlas.                                                                                                             |  7                                                                                                                                                                                   | Mouse Connectivity Reference Data                                                                                                                                                    | 3548889432                                                                                                                                                                           | Allen Mouse Brain Connectivity Atlas                                                                                                                                                 | Mouse                                                                                                                                                                                | 1861523945                                                                                                                                                                           | NA                                                                                                                                                                                   |\n",
       "\n",
       "\n",
       "\n",
       "\n"
      ],
      "text/plain": [
       "$success\n",
       "[1] TRUE\n",
       "\n",
       "$id\n",
       "[1] 0\n",
       "\n",
       "$start_row\n",
       "[1] 20\n",
       "\n",
       "$num_rows\n",
       "[1] 10\n",
       "\n",
       "$total_rows\n",
       "[1] 52\n",
       "\n",
       "$msg\n",
       "                    abbreviation\n",
       "1                          Mouse\n",
       "2                       MouseRef\n",
       "3                 MouseCellTypes\n",
       "4  MouseCellTypesTranscriptomics\n",
       "5                 ConnAntCreEGFP\n",
       "6              ConnAntCreSypEGFP\n",
       "7                     ConnBdaAav\n",
       "8                 ConnRetinaFlat\n",
       "9                       ConnProj\n",
       "10                       ConnRef\n",
       "                                                                                                                                 description\n",
       "1                                          Genome-wide, high-resolution ISH data detailing gene expression throughout the adult mouse brain.\n",
       "2                                                                                Reference datasets created for the Allen Mouse Brain Atlas.\n",
       "3                                                                                                                  Allen Cell Types Database\n",
       "4                                                                                           Allen Cell Types Database - transcriptomics data\n",
       "5                                                        Image data of the mouse brain detailing axonal projections labeled by viral tracers\n",
       "6                                                    Image data of the mouse brain detailing pre-synaptic terminals labeled by viral tracers\n",
       "7  High-resolution histology data directly comparing viral rAAV and conventional BDA tracers, as well as SMI-32 staining in the mouse brain.\n",
       "8                                                                         Fluorescent images of viral tracer injection site in mouse retina.\n",
       "9                                                       Image data of the mouse brain detailing axonal projections labeled by viral tracers.\n",
       "10                                                                  Reference datasets created for the Allen Mouse Brain Connectivity Atlas.\n",
       "   id                                               name product_name_facet\n",
       "1   1                                        Mouse Brain         2757464828\n",
       "2  12                         Mouse Brain Reference Data         3732634848\n",
       "3  33                                   Mouse Cell Types         1945280279\n",
       "4  38            Mouse Cell Types - transcriptomics data         2358178325\n",
       "5  35    Mouse Connectivity anterograde Cre-defined EGFP         2859019029\n",
       "6  36 Mouse Connectivity anterograde Cre-defined SypEGFP         1828166438\n",
       "7   6              Mouse Connectivity BDA/AAV Comparison         2780212373\n",
       "8  30                Mouse Connectivity Flatmount Retina         2047136518\n",
       "9   5                      Mouse Connectivity Projection         3981643079\n",
       "10  7                  Mouse Connectivity Reference Data         3548889432\n",
       "                               resource species species_name_facet\n",
       "1               Allen Mouse Brain Atlas   Mouse         1861523945\n",
       "2               Allen Mouse Brain Atlas   Mouse         1861523945\n",
       "3            Mouse Cell Types Database.   Mouse         1861523945\n",
       "4             Mouse Cell Types Database   Mouse         1861523945\n",
       "5  Allen Mouse Brain Connectivity Atlas   Mouse         1861523945\n",
       "6  Allen Mouse Brain Connectivity Atlas   Mouse         1861523945\n",
       "7  Allen Mouse Brain Connectivity Atlas   Mouse         1861523945\n",
       "8  Allen Mouse Brain Connectivity Atlas   Mouse         1861523945\n",
       "9  Allen Mouse Brain Connectivity Atlas   Mouse         1861523945\n",
       "10 Allen Mouse Brain Connectivity Atlas   Mouse         1861523945\n",
       "                                                                                                                                                                                   tags\n",
       "1                                                                                                                                                                                  <NA>\n",
       "2                                                                                                                                                                                  <NA>\n",
       "3  mouse neuron neuronal cell electrophysiology ephys current clamp patch morphology dendritic tree glif biophysical perisomatic active dendrite model abstract point visual cortex vis\n",
       "4                                                                                                                                                                                  <NA>\n",
       "5                                                                                                                                                                                  <NA>\n",
       "6                                                                                                                                                                                  <NA>\n",
       "7                                                                                                                                                                                  <NA>\n",
       "8                                                                                                                                                                                  <NA>\n",
       "9                                                                                                                                                                                  <NA>\n",
       "10                                                                                                                                                                                 <NA>\n"
      ]
     },
     "metadata": {},
     "output_type": "display_data"
    }
   ],
   "source": [
    "url <- 'http://api.brain-map.org/api/v2/data/Product/query.json?num_rows=10&start_row=20&order=products.name'\n",
    "r <- httr::GET(url = url)\n",
    "json <- httr::content(r, as = \"text\", encoding = \"UTF-8\")\n",
    "\n",
    "df <- fromJSON(json,flatten = TRUE)\n",
    "df"
   ]
  }
 ],
 "metadata": {
  "kernelspec": {
   "display_name": "R",
   "language": "R",
   "name": "ir"
  },
  "language_info": {
   "codemirror_mode": "r",
   "file_extension": ".r",
   "mimetype": "text/x-r-source",
   "name": "R",
   "pygments_lexer": "r",
   "version": "3.6.1"
  },
  "toc": {
   "base_numbering": 1,
   "nav_menu": {},
   "number_sections": true,
   "sideBar": true,
   "skip_h1_title": false,
   "title_cell": "Table of Contents",
   "title_sidebar": "Contents",
   "toc_cell": false,
   "toc_position": {},
   "toc_section_display": true,
   "toc_window_display": false
  },
  "varInspector": {
   "cols": {
    "lenName": 16,
    "lenType": 16,
    "lenVar": 40
   },
   "kernels_config": {
    "python": {
     "delete_cmd_postfix": "",
     "delete_cmd_prefix": "del ",
     "library": "var_list.py",
     "varRefreshCmd": "print(var_dic_list())"
    },
    "r": {
     "delete_cmd_postfix": ") ",
     "delete_cmd_prefix": "rm(",
     "library": "var_list.r",
     "varRefreshCmd": "cat(var_dic_list()) "
    }
   },
   "types_to_exclude": [
    "module",
    "function",
    "builtin_function_or_method",
    "instance",
    "_Feature"
   ],
   "window_display": false
  }
 },
 "nbformat": 4,
 "nbformat_minor": 2
}
