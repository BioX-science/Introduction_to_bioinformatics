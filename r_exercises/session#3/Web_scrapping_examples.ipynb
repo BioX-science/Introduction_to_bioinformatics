{
 "cells": [
  {
   "cell_type": "markdown",
   "metadata": {},
   "source": [
    "# Web scrapping Examples"
   ]
  },
  {
   "cell_type": "code",
   "execution_count": null,
   "metadata": {
    "ExecuteTime": {
     "end_time": "2020-03-04T09:44:57.591577Z",
     "start_time": "2020-03-04T09:44:57.966Z"
    }
   },
   "outputs": [],
   "source": [
    "install.packages(\"easyPubMed\")\n",
    "install.packages(\"coronavirus\")\n",
    "install.packages('rvest')"
   ]
  },
  {
   "cell_type": "markdown",
   "metadata": {},
   "source": [
    "## General Scrapping\n",
    "\n",
    "https://stat4701.github.io/edav/2015/04/02/rvest_tutorial/"
   ]
  },
  {
   "cell_type": "code",
   "execution_count": 2,
   "metadata": {
    "ExecuteTime": {
     "end_time": "2020-03-04T13:10:43.076168Z",
     "start_time": "2020-03-04T13:10:51.714Z"
    }
   },
   "outputs": [
    {
     "name": "stderr",
     "output_type": "stream",
     "text": [
      "Loading required package: xml2\n"
     ]
    }
   ],
   "source": [
    "library('rvest')\n",
    "\n",
    "#url_to_scrap = 'https://www.frontiersin.org/articles/10.3389/fninf.2016.00006/full'\n",
    "url_to_scrap <- 'https://pubmed.ncbi.nlm.nih.gov/?term=astrocytes'\n",
    "\n",
    "webpage <- read_html(url_to_scrap)"
   ]
  },
  {
   "cell_type": "code",
   "execution_count": null,
   "metadata": {
    "ExecuteTime": {
     "end_time": "2020-03-04T10:43:56.669798Z",
     "start_time": "2020-03-04T10:44:05.981Z"
    }
   },
   "outputs": [],
   "source": [
    "articles <- html_nodes(webpage,'article')"
   ]
  },
  {
   "cell_type": "code",
   "execution_count": null,
   "metadata": {
    "ExecuteTime": {
     "end_time": "2020-03-04T10:38:04.632373Z",
     "start_time": "2020-03-04T10:38:13.903Z"
    }
   },
   "outputs": [],
   "source": [
    "articles"
   ]
  },
  {
   "cell_type": "code",
   "execution_count": null,
   "metadata": {
    "ExecuteTime": {
     "end_time": "2020-03-04T10:44:25.810835Z",
     "start_time": "2020-03-04T10:44:35.091Z"
    }
   },
   "outputs": [],
   "source": [
    "for (i in articles){\n",
    "    title <- html_nodes(i,'.labs-docsum-title')\n",
    "    title_text <- html_text(title)\n",
    "    no_white_spaces <- gsub('\\\\s+',' ',title_text)\n",
    "    clean_text <- trimws(no_white_spaces)\n",
    "    print(clean_text)\n",
    "}"
   ]
  },
  {
   "cell_type": "markdown",
   "metadata": {},
   "source": [
    "Exercise, Try to extract authors. "
   ]
  },
  {
   "cell_type": "code",
   "execution_count": null,
   "metadata": {},
   "outputs": [],
   "source": [
    "# Exercise"
   ]
  },
  {
   "cell_type": "markdown",
   "metadata": {},
   "source": [
    "### Generate Database\n",
    "\n",
    "https://pubmed.ncbi.nlm.nih.gov/?term=astrocytes&page=2"
   ]
  },
  {
   "cell_type": "code",
   "execution_count": null,
   "metadata": {
    "ExecuteTime": {
     "end_time": "2020-03-04T10:43:26.432556Z",
     "start_time": "2020-03-04T10:41:48.526Z"
    }
   },
   "outputs": [],
   "source": [
    "url <- 'https://pubmed.ncbi.nlm.nih.gov/?term=astrocytes&page='\n",
    "url_1 <- paste(url,'1', sep='')\n",
    "\n",
    "\n",
    "titles <- c()\n",
    "for (i in 1:10){\n",
    "    url_i <- paste(url, toString(i), sep='')\n",
    "    print(url_i)\n",
    "    \n",
    "    webpage <- read_html(url_to_scrap)\n",
    "    \n",
    "    title <- html_nodes(webpage,'.labs-docsum-title')\n",
    "    title_text <- html_text(title)\n",
    "    no_white_spaces <- gsub('\\\\s+',' ',title_text)\n",
    "    clean_text <- trimws(no_white_spaces)\n",
    "\n",
    "    titles <- c(titles, clean_text)\n",
    "}\n",
    "\n",
    "print(titles)\n"
   ]
  },
  {
   "cell_type": "code",
   "execution_count": 7,
   "metadata": {
    "ExecuteTime": {
     "end_time": "2020-03-04T13:13:33.368959Z",
     "start_time": "2020-03-04T13:13:37.967Z"
    },
    "scrolled": false
   },
   "outputs": [
    {
     "name": "stdout",
     "output_type": "stream",
     "text": [
      "  [1] \"Astrocytes in neurodegenerative diseases (I): function and molecular description.\"                                                                                                                           \n",
      "  [2] \"A stocked toolbox for understanding the role of astrocytes in disease.\"                                                                                                                                      \n",
      "  [3] \"Isolation and culture of mouse cortical astrocytes.\"                                                                                                                                                         \n",
      "  [4] \"Fast Generation of Functional Subtype Astrocytes from Human Pluripotent Stem Cells.\"                                                                                                                         \n",
      "  [5] \"Multiple roles for astrocytes as effectors of cytokines and inflammatory mediators.\"                                                                                                                         \n",
      "  [6] \"Astrocytes: inexplicable cells in neurodegeneration.\"                                                                                                                                                        \n",
      "  [7] \"Specification and morphogenesis of astrocytes.\"                                                                                                                                                              \n",
      "  [8] \"Morphology and properties of astrocytes.\"                                                                                                                                                                    \n",
      "  [9] \"Uniquely hominid features of adult human astrocytes.\"                                                                                                                                                        \n",
      " [10] \"Do Evolutionary Changes in Astrocytes Contribute to the Computational Power of the Hominid Brain?\"                                                                                                           \n",
      " [11] \"Astrocytes activation contributes to the antidepressant-like effect of ketamine but not scopolamine.\"                                                                                                        \n",
      " [12] \"Phagocytic response of astrocytes to damaged neighboring cells.\"                                                                                                                                             \n",
      " [13] \"Diversity of astrocyte functions and phenotypes in neural circuits.\"                                                                                                                                         \n",
      " [14] \"Visualizing the brain's astrocytes.\"                                                                                                                                                                         \n",
      " [15] \"Involvement of astrocytes in neurovascular communication.\"                                                                                                                                                   \n",
      " [16] \"Optogenetic Interneuron Stimulation and Calcium Imaging in Astrocytes.\"                                                                                                                                      \n",
      " [17] \"Prevention of neuronal apoptosis by astrocytes through thiol-mediated stress response modulation and accelerated recovery from proteotoxic stress.\"                                                          \n",
      " [18] \"Disentangling the Role of Astrocytes in Alcohol Use Disorder.\"                                                                                                                                               \n",
      " [19] \"Loose excitation-secretion coupling in astrocytes.\"                                                                                                                                                          \n",
      " [20] \"TREK-1 mediates isoflurane-induced cytotoxicity in astrocytes.\"                                                                                                                                              \n",
      " [21] \"Astrocyte development: A Guide for the Perplexed.\"                                                                                                                                                           \n",
      " [22] \"Mitochondrial dynamics in astrocytes.\"                                                                                                                                                                       \n",
      " [23] \"Crucial role of astrocytes in temporal lobe epilepsy.\"                                                                                                                                                       \n",
      " [24] \"Dynamism of an Astrocyte In Vivo: Perspectives on Identity and Function.\"                                                                                                                                    \n",
      " [25] \"Effects of dimethyl sulfoxide on the morphology and viability of primary cultured neurons and astrocytes.\"                                                                                                   \n",
      " [26] \"Astrocyte dysfunction in Alzheimer disease.\"                                                                                                                                                                 \n",
      " [27] \"The Appropriate Marker for Astrocytes: Comparing the Distribution and Expression of Three Astrocytic Markers in Different Mouse Cerebral Regions.\"                                                           \n",
      " [28] \"Culturing In Vivo-like Murine Astrocytes Using the Fast, Simple, and Inexpensive AWESAM Protocol.\"                                                                                                           \n",
      " [29] \"\\\"Targeting astrocytes in CNS injury and disease: A translational research approach\\\".\"                                                                                                                      \n",
      " [30] \"Astrocytes are endogenous regulators of basal transmission at central synapses.\"                                                                                                                             \n",
      " [31] \"A Method to Visualize the Nanoscopic Morphology of Astrocytes In Vitro and In Situ.\"                                                                                                                         \n",
      " [32] \"Astrocyte reactivity and reactive astrogliosis: costs and benefits.\"                                                                                                                                         \n",
      " [33] \"Targeting astrocytes in brain injuries: A translational research approach.\"                                                                                                                                  \n",
      " [34] \"Control of astrocyte morphology by Rho GTPases.\"                                                                                                                                                             \n",
      " [35] \"Astrocytes as GABA-ergic and GABA-ceptive cells.\"                                                                                                                                                            \n",
      " [36] \"Cortical maps: a role for astrocytes?\"                                                                                                                                                                       \n",
      " [37] \"Astrocytes: multitalented stars of the central nervous system.\"                                                                                                                                              \n",
      " [38] \"Vanishing white matter: a leukodystrophy due to astrocytic dysfunction.\"                                                                                                                                     \n",
      " [39] \"Astrocytes, spontaneity, and the developing thalamus.\"                                                                                                                                                       \n",
      " [40] \"A novel method for culturing stellate astrocytes reveals spatially distinct Ca2+ signaling and vesicle recycling in astrocytic processes.\"                                                                   \n",
      " [41] \"Astrocyte Cultures Mimicking Brain Astrocytes in Gene Expression, Signaling, Metabolism and K(+) Uptake and Showing Astrocytic Gene Expression Overlooked by Immunohistochemistry and In Situ Hybridization.\"\n",
      " [42] \"Pharmacological Tools to Study the Role of Astrocytes in Neural Network Functions.\"                                                                                                                          \n",
      " [43] \"Astrocytes in the epileptic brain.\"                                                                                                                                                                          \n",
      " [44] \"Astrocytes and manganese neurotoxicity.\"                                                                                                                                                                     \n",
      " [45] \"The Astrocytic cAMP Pathway in Health and Disease.\"                                                                                                                                                          \n",
      " [46] \"The influence of astrocytes on the width of orientation hypercolumns in visual cortex: A computational perspective.\"                                                                                         \n",
      " [47] \"Primary cultures of astrocytes: their value in understanding astrocytes in health and disease.\"                                                                                                              \n",
      " [48] \"Astrocyte Ca²⁺ signalling: an unexpected complexity.\"                                                                                                                                                        \n",
      " [49] \"Alexander disease: an astrocytopathy that produces a leukodystrophy\"                                                                                                                                         \n",
      " [50] \"Synchronous hyperactivity and intercellular calcium waves in astrocytes in Alzheimer mice.\"                                                                                                                  \n",
      " [51] \"Astrocytes: the missing link in neurologic disease?\"                                                                                                                                                         \n",
      " [52] \"Monitoring Astrocyte Reactivity and Proliferation in Vitro Under Ischemic-Like Conditions.\"                                                                                                                  \n",
      " [53] \"Dynamic signaling between astrocytes and neurons.\"                                                                                                                                                           \n",
      " [54] \"Selective cytotoxicity of microcystins LR, LW and LF in rat astrocytes.\"                                                                                                                                     \n",
      " [55] \"p15(INK4b) regulates cell cycle signaling in hippocampal astrocytes of aged rats.\"                                                                                                                           \n",
      " [56] \"Astrocytes: form, functions, and roles in disease.\"                                                                                                                                                          \n",
      " [57] \"Molecular mechanisms of astrocyte-neuron signaling.\"                                                                                                                                                         \n",
      " [58] \"Astrocyte alterations in neurodegenerative pathologies and their modeling in human induced pluripotent stem cell platforms.\"                                                                                 \n",
      " [59] \"High frequency electrical stimulation promotes expression of extracellular matrix proteins from human astrocytes.\"                                                                                           \n",
      " [60] \"Pro-regenerative properties of cytokine-activated astrocytes.\"                                                                                                                                               \n",
      " [61] \"New roles for astrocytes (stars at last).\"                                                                                                                                                                   \n",
      " [62] \"How factors secreted from astrocytes impact myelin repair.\"                                                                                                                                                  \n",
      " [63] \"mGlu5-mediated signalling in developing astrocyte and the pathogenesis of autism spectrum disorders.\"                                                                                                        \n",
      " [64] \"Leukodystrophies due to astroyctic dysfunction\"                                                                                                                                                              \n",
      " [65] \"Astrocytes: Glutamate transport and alternate splicing of transporters.\"                                                                                                                                     \n",
      " [66] \"The active role of astrocytes in synaptic transmission.\"                                                                                                                                                     \n",
      " [67] \"Astrocytes in Alzheimer's disease: emerging roles in calcium dysregulation and synaptic plasticity.\"                                                                                                         \n",
      " [68] \"Astrocytes in neurotransmission. A review.\"                                                                                                                                                                  \n",
      " [69] \"Astrocyte´s RAGE: More Than Just a Question of Mood\"                                                                                                                                                         \n",
      " [70] \"The Antidiabetic Drug Metformin Stimulates Glycolytic Lactate Production in Cultured Primary Rat Astrocytes.\"                                                                                                \n",
      " [71] \"Mechanisms of Disease: astrocytes in neurodegenerative disease.\"                                                                                                                                             \n",
      " [72] \"Controversy surrounding the existence of discrete functional classes of astrocytes in adult gray matter.\"                                                                                                    \n",
      " [73] \"Two sides of the same coin: sodium homeostasis and signaling in astrocytes under physiological and pathophysiological conditions.\"                                                                           \n",
      " [74] \"Astrocyte-endothelial interactions and blood-brain barrier permeability.\"                                                                                                                                    \n",
      " [75] \"Protein astrogliopathies in human neurodegenerative diseases and aging\"                                                                                                                                      \n",
      " [76] \"Reactive astrocytes--a review.\"                                                                                                                                                                              \n",
      " [77] \"Plasticity of astrocytes in primary cultures: an experimental tool and a reason for methodological caution.\"                                                                                                 \n",
      " [78] \"Role of astrocytes in glutamate homeostasis: implications for excitotoxicity.\"                                                                                                                               \n",
      " [79] \"The role(s) of astrocytes and astrocyte activity in neurometabolism, neurovascular coupling, and the production of functional neuroimaging signals.\"                                                         \n",
      " [80] \"Astrocyte heterogeneity: an underappreciated topic in neurobiology.\"                                                                                                                                         \n",
      " [81] \"Glutamate and glutamine metabolism and compartmentation in astrocytes.\"                                                                                                                                      \n",
      " [82] \"The role of activated astrocytes and of the neurotrophic cytokine S100B in the pathogenesis of Alzheimer's disease.\"                                                                                         \n",
      " [83] \"Synaptic plasticity: Astrocytes wrap it up.\"                                                                                                                                                                 \n",
      " [84] \"The evidence for astrocytes as a target for central noradrenergic activity: expression of adrenergic receptors.\"                                                                                             \n",
      " [85] \"The transsulfuration pathway: a source of cysteine for glutathione in astrocytes.\"                                                                                                                           \n",
      " [86] \"ErbB receptor signaling in astrocytes: a mediator of neuron-glia communication in the mature central nervous system.\"                                                                                        \n",
      " [87] \"Astrocyte-neuron interaction at tripartite synapses.\"                                                                                                                                                        \n",
      " [88] \"Biomaterial Approaches to Modulate Reactive Astroglial Response\"                                                                                                                                             \n",
      " [89] \"Lipocalin-2 as a therapeutic target for brain injury: An astrocentric perspective\"                                                                                                                           \n",
      " [90] \"Vitamin C Promotes Astrocyte Differentiation Through DNA Hydroxymethylation.\"                                                                                                                                \n",
      " [91] \"The role of astrocytes in hepatic encephalopathy.\"                                                                                                                                                           \n",
      " [92] \"Neuronal death: is there a role for astrocytes?\"                                                                                                                                                             \n",
      " [93] \"Functional integration of the transport of ammonium, glutamate and glutamine in astrocytes.\"                                                                                                                 \n",
      " [94] \"Histamine and astrocyte function.\"                                                                                                                                                                           \n",
      " [95] \"Astrocyte Aquaporin Dynamics in Health and Disease.\"                                                                                                                                                         \n",
      " [96] \"From in silico astrocyte cell models to neuron-astrocyte network models: A review.\"                                                                                                                          \n",
      " [97] \"Glycogenolysis, an Astrocyte-Specific Reaction, is Essential for Both Astrocytic and Neuronal Activities Involved in Learning.\"                                                                              \n",
      " [98] \"Diversity of astroglial responses across human neurodegenerative disorders and brain aging\"                                                                                                                  \n",
      " [99] \"Astrocytes as modulators of mercury-induced neurotoxicity.\"                                                                                                                                                  \n",
      "[100] \"Cerebral radiofrequency exposures during adolescence: Impact on astrocytes and brain functions in healthy and pathologic rat models.\"                                                                        \n"
     ]
    }
   ],
   "source": [
    "url <- 'https://pubmed.ncbi.nlm.nih.gov/?term=astrocytes&page='\n",
    "url_1 <- paste(url,'1', sep='')\n",
    "\n",
    "\n",
    "titles <- c()\n",
    "for (i in 1:10){\n",
    "    url_i <- paste(url, toString(i), sep='')\n",
    "    \n",
    "    url_to_scrap <- html_session(url_i)\n",
    "    \n",
    "    webpage <- read_html(url_to_scrap)\n",
    "    \n",
    "    title <- html_nodes(webpage,'.labs-docsum-title')\n",
    "    title_text <- html_text(title)\n",
    "    no_white_spaces <- gsub('\\\\s+',' ',title_text)\n",
    "    clean_text <- trimws(no_white_spaces)\n",
    "\n",
    "    titles <- c(titles, clean_text)\n",
    "}\n",
    "\n",
    "print(titles)"
   ]
  },
  {
   "cell_type": "markdown",
   "metadata": {},
   "source": [
    "## APIs, easyPubMed \n",
    "\n",
    "https://cran.r-project.org/web/packages/easyPubMed/vignettes/getting_started_with_easyPubMed.html"
   ]
  },
  {
   "cell_type": "code",
   "execution_count": 10,
   "metadata": {
    "ExecuteTime": {
     "end_time": "2020-03-04T13:15:45.923986Z",
     "start_time": "2020-03-04T13:15:55.512Z"
    }
   },
   "outputs": [],
   "source": [
    "library(\"easyPubMed\")"
   ]
  },
  {
   "cell_type": "code",
   "execution_count": 11,
   "metadata": {
    "ExecuteTime": {
     "end_time": "2020-03-04T13:16:33.352416Z",
     "start_time": "2020-03-04T13:15:56.923Z"
    }
   },
   "outputs": [],
   "source": [
    "my_query <- 'Astrocytes'\n",
    "my_entrez_id <- get_pubmed_ids(my_query)\n",
    "my_abstracts_txt <- fetch_pubmed_data(my_entrez_id, format = \"abstract\")\n",
    "my_abstracts_xml <- fetch_pubmed_data(pubmed_id_list = my_entrez_id)"
   ]
  },
  {
   "cell_type": "code",
   "execution_count": 12,
   "metadata": {
    "ExecuteTime": {
     "end_time": "2020-03-04T13:21:36.934481Z",
     "start_time": "2020-03-04T13:15:57.958Z"
    }
   },
   "outputs": [],
   "source": [
    "my_titles <- custom_grep(my_abstracts_xml, \"ArticleTitle\", \"char\")"
   ]
  },
  {
   "cell_type": "code",
   "execution_count": 20,
   "metadata": {
    "ExecuteTime": {
     "end_time": "2020-03-04T13:29:01.272150Z",
     "start_time": "2020-03-04T13:29:09.190Z"
    }
   },
   "outputs": [
    {
     "data": {
      "text/html": [
       "500"
      ],
      "text/latex": [
       "500"
      ],
      "text/markdown": [
       "500"
      ],
      "text/plain": [
       "[1] 500"
      ]
     },
     "metadata": {},
     "output_type": "display_data"
    }
   ],
   "source": [
    "length(my_titles)\n",
    "\n",
    "words <- c()\n",
    "for (i in my_titles){\n",
    "    title <- strsplit(i, ' ')   #gsub('\\\\s+',' ',title_text)\n",
    "    words <- c(words, title)\n",
    "}\n",
    "words <- unlist(words)"
   ]
  },
  {
   "cell_type": "markdown",
   "metadata": {},
   "source": [
    "### Matrix of word counts"
   ]
  },
  {
   "cell_type": "code",
   "execution_count": 23,
   "metadata": {
    "ExecuteTime": {
     "end_time": "2020-03-04T13:30:29.082873Z",
     "start_time": "2020-03-04T13:30:38.676Z"
    }
   },
   "outputs": [],
   "source": [
    "# Exercise"
   ]
  },
  {
   "cell_type": "markdown",
   "metadata": {},
   "source": [
    "### Visualization of word cloud"
   ]
  },
  {
   "cell_type": "code",
   "execution_count": null,
   "metadata": {},
   "outputs": [],
   "source": [
    "# Exercise!"
   ]
  },
  {
   "cell_type": "markdown",
   "metadata": {},
   "source": [
    "## CoronaVirus"
   ]
  },
  {
   "cell_type": "code",
   "execution_count": null,
   "metadata": {},
   "outputs": [],
   "source": [
    "library(coronavirus) \n",
    "\n",
    "db <- data(\"coronavirus\") \n",
    "\n",
    "head(db)"
   ]
  },
  {
   "cell_type": "markdown",
   "metadata": {},
   "source": [
    "## Allen Brain Institute\n",
    "\n",
    "http://help.brain-map.org/display/api/Allen+Brain+Atlas+API\n",
    "\n",
    "http://help.brain-map.org/pages/viewpage.action?pageId=5308449\n",
    "\n",
    "http://help.brain-map.org/display/api/Downloading+3-D+Expression+Grid+Data"
   ]
  },
  {
   "cell_type": "markdown",
   "metadata": {},
   "source": [
    "### Images\n",
    "\n",
    "http://help.brain-map.org/display/api/Downloading+an+Image\n",
    "\n",
    "https://github.com/oganm/allenBrain"
   ]
  },
  {
   "cell_type": "code",
   "execution_count": null,
   "metadata": {},
   "outputs": [],
   "source": [
    "url <- 'https://spainweather.es/webcams/malaga/current.jpg'\n",
    "#download.file(url,'test.jpg', mode = 'wb')\n",
    "jj <- readJPEG(\"test.jpg\",native=TRUE)\n",
    "plot(0:1,0:1,type=\"n\",ann=FALSE,axes=FALSE)\n",
    "rasterImage(jj,0,0,1,1)"
   ]
  },
  {
   "cell_type": "code",
   "execution_count": null,
   "metadata": {
    "ExecuteTime": {
     "end_time": "2020-03-04T11:12:17.459572Z",
     "start_time": "2020-03-04T11:12:20.740Z"
    }
   },
   "outputs": [],
   "source": [
    "install.packages('httr')\n",
    "url <- 'http://api.brain-map.org/api/v2/image_download/69750516?downsample=4'\n",
    "r <- httr::GET(url = url)\n",
    "img <- httr::content(r)"
   ]
  },
  {
   "cell_type": "code",
   "execution_count": null,
   "metadata": {
    "ExecuteTime": {
     "end_time": "2020-03-04T11:19:06.619005Z",
     "start_time": "2020-03-04T11:19:14.153Z"
    }
   },
   "outputs": [],
   "source": [
    "writeJPEG(img, 'test.jpg')"
   ]
  },
  {
   "cell_type": "code",
   "execution_count": null,
   "metadata": {
    "ExecuteTime": {
     "end_time": "2020-03-04T11:19:23.627604Z",
     "start_time": "2020-03-04T11:19:17.826Z"
    }
   },
   "outputs": [],
   "source": [
    "jj <- readJPEG(\"test.jpg\",native=TRUE)\n",
    "plot(0:1,0:1,type=\"n\",ann=FALSE,axes=FALSE)\n",
    "rasterImage(jj,0,0,1,1)"
   ]
  },
  {
   "cell_type": "markdown",
   "metadata": {},
   "source": [
    "### Use a tool to access to the API"
   ]
  },
  {
   "cell_type": "code",
   "execution_count": null,
   "metadata": {
    "ExecuteTime": {
     "end_time": "2020-03-04T12:51:11.685281Z",
     "start_time": "2020-03-04T12:51:09.836Z"
    }
   },
   "outputs": [],
   "source": [
    "if (!requireNamespace(\"BiocManager\", quietly = TRUE))\n",
    "    install.packages(\"BiocManager\")\n",
    "\n",
    "BiocManager::install(\"ABAData\")"
   ]
  },
  {
   "cell_type": "code",
   "execution_count": null,
   "metadata": {
    "ExecuteTime": {
     "start_time": "2020-03-04T12:56:48.127Z"
    }
   },
   "outputs": [],
   "source": [
    "install.packages('devtools')"
   ]
  },
  {
   "cell_type": "code",
   "execution_count": null,
   "metadata": {
    "ExecuteTime": {
     "end_time": "2020-03-04T12:44:15.790305Z",
     "start_time": "2020-03-04T12:44:25.324Z"
    }
   },
   "outputs": [],
   "source": [
    "devtools::install_github('oganm/allenBrain')"
   ]
  },
  {
   "cell_type": "markdown",
   "metadata": {},
   "source": [
    "### Gene Expression"
   ]
  },
  {
   "cell_type": "code",
   "execution_count": null,
   "metadata": {
    "ExecuteTime": {
     "start_time": "2020-03-04T13:06:15.341Z"
    }
   },
   "outputs": [],
   "source": [
    "if (!requireNamespace(\"BiocManager\", quietly = TRUE))\n",
    "    install.packages(\"BiocManager\")\n",
    "\n",
    "BiocManager::install(\"ABAData\")\n",
    "\n",
    "BiocManager::install(\"ABAEnrichment\")"
   ]
  },
  {
   "cell_type": "code",
   "execution_count": null,
   "metadata": {
    "ExecuteTime": {
     "end_time": "2020-03-04T12:53:10.900830Z",
     "start_time": "2020-03-04T12:53:09.553Z"
    }
   },
   "outputs": [],
   "source": [
    "## load package\n",
    "require(ABAData)\n",
    "## require averaged gene expression data (microarray) from adult human brain regions\n",
    "data(dataset_adult)\n",
    "## look at first lines\n",
    "head(dataset_adult)"
   ]
  },
  {
   "cell_type": "code",
   "execution_count": null,
   "metadata": {},
   "outputs": [],
   "source": []
  }
 ],
 "metadata": {
  "kernelspec": {
   "display_name": "R",
   "language": "R",
   "name": "ir"
  },
  "language_info": {
   "codemirror_mode": "r",
   "file_extension": ".r",
   "mimetype": "text/x-r-source",
   "name": "R",
   "pygments_lexer": "r",
   "version": "3.6.1"
  },
  "toc": {
   "base_numbering": 1,
   "nav_menu": {},
   "number_sections": true,
   "sideBar": true,
   "skip_h1_title": false,
   "title_cell": "Table of Contents",
   "title_sidebar": "Contents",
   "toc_cell": false,
   "toc_position": {},
   "toc_section_display": true,
   "toc_window_display": false
  },
  "varInspector": {
   "cols": {
    "lenName": 16,
    "lenType": 16,
    "lenVar": 40
   },
   "kernels_config": {
    "python": {
     "delete_cmd_postfix": "",
     "delete_cmd_prefix": "del ",
     "library": "var_list.py",
     "varRefreshCmd": "print(var_dic_list())"
    },
    "r": {
     "delete_cmd_postfix": ") ",
     "delete_cmd_prefix": "rm(",
     "library": "var_list.r",
     "varRefreshCmd": "cat(var_dic_list()) "
    }
   },
   "types_to_exclude": [
    "module",
    "function",
    "builtin_function_or_method",
    "instance",
    "_Feature"
   ],
   "window_display": false
  }
 },
 "nbformat": 4,
 "nbformat_minor": 2
}
